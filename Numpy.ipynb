{
 "cells": [
  {
   "cell_type": "markdown",
   "id": "a84d5e13-c50e-4f2f-862f-59e12a2870f3",
   "metadata": {},
   "source": [
    "## Numpy\n",
    "- 복잡한 빅데이터의 수학적/과학적 계산을 위한 라이브러리\n",
    "- 반복문 없이, 전체 데이터의 배열 연산이 가능한 수학 함수들 제공\n",
    "- 배열 : 같은 자료형의 원소들이 연속적인 형태로 구성된 자료구조"
   ]
  },
  {
   "cell_type": "code",
   "execution_count": 26,
   "id": "ce98727b-6038-48c3-9ae1-a0a98228548b",
   "metadata": {},
   "outputs": [],
   "source": [
    "import numpy as np # Numpy 라이브러리를 불러오고, 앞으로 np라고 부르겠다!"
   ]
  },
  {
   "cell_type": "code",
   "execution_count": 3,
   "id": "dd811c44-c3ee-49e3-8ca4-8fd019e114a2",
   "metadata": {},
   "outputs": [
    {
     "data": {
      "text/plain": [
       "array([4, 3, 2, 1])"
      ]
     },
     "execution_count": 3,
     "metadata": {},
     "output_type": "execute_result"
    }
   ],
   "source": [
    "arr = np.array([4, 3, 2, 1]) # np안에 있는 array 함수 사용\n",
    "\n",
    "arr "
   ]
  },
  {
   "cell_type": "code",
   "execution_count": 4,
   "id": "3005151e-458d-4066-b03f-761994953079",
   "metadata": {},
   "outputs": [
    {
     "data": {
      "text/plain": [
       "numpy.ndarray"
      ]
     },
     "execution_count": 4,
     "metadata": {},
     "output_type": "execute_result"
    }
   ],
   "source": [
    "type(arr) # 다차원 배열(n dimension)"
   ]
  },
  {
   "cell_type": "code",
   "execution_count": 5,
   "id": "1faa0184-7ead-4235-aea4-da530f4705ff",
   "metadata": {},
   "outputs": [
    {
     "data": {
      "text/plain": [
       "array([1., 2., 3., 4.], dtype=float32)"
      ]
     },
     "execution_count": 5,
     "metadata": {},
     "output_type": "execute_result"
    }
   ],
   "source": [
    "list1 = [1, 2, 3, 4]\n",
    "\n",
    "arr = np.array(list1, dtype=np.float32)\n",
    "\n",
    "arr"
   ]
  },
  {
   "cell_type": "code",
   "execution_count": 6,
   "id": "991e77a7-1d04-40c6-ba03-eabfa52a4473",
   "metadata": {},
   "outputs": [
    {
     "data": {
      "text/plain": [
       "[1, 2, 3, 4, 1]"
      ]
     },
     "execution_count": 6,
     "metadata": {},
     "output_type": "execute_result"
    }
   ],
   "source": [
    "# 연산\n",
    "# list의 경우 \n",
    "\n",
    "list1 + [1] # 추가 하는 거"
   ]
  },
  {
   "cell_type": "code",
   "execution_count": 7,
   "id": "226c3957-d814-4b78-8d38-396633cb500d",
   "metadata": {},
   "outputs": [
    {
     "name": "stdout",
     "output_type": "stream",
     "text": [
      "[1. 2. 3. 4.]\n"
     ]
    }
   ],
   "source": [
    "print(arr)"
   ]
  },
  {
   "cell_type": "code",
   "execution_count": 8,
   "id": "bee882ec-c83b-411a-9d22-f113d0277c46",
   "metadata": {},
   "outputs": [
    {
     "data": {
      "text/plain": [
       "array([1, 2, 3, 4])"
      ]
     },
     "execution_count": 8,
     "metadata": {},
     "output_type": "execute_result"
    }
   ],
   "source": [
    "arr = np.array(list1)\n",
    "arr"
   ]
  },
  {
   "cell_type": "code",
   "execution_count": 9,
   "id": "39e2c641-b259-46c1-a25b-1538450b28e9",
   "metadata": {},
   "outputs": [
    {
     "data": {
      "text/plain": [
       "array([2, 3, 4, 5])"
      ]
     },
     "execution_count": 9,
     "metadata": {},
     "output_type": "execute_result"
    }
   ],
   "source": [
    "arr = np.array(list1)\n",
    "arr + 1"
   ]
  },
  {
   "cell_type": "code",
   "execution_count": 10,
   "id": "7b2fdbce-7c44-4a14-84f2-64fb0fef1c8b",
   "metadata": {},
   "outputs": [
    {
     "data": {
      "text/plain": [
       "array([0, 1, 2, 3])"
      ]
     },
     "execution_count": 10,
     "metadata": {},
     "output_type": "execute_result"
    }
   ],
   "source": [
    "arr - 1"
   ]
  },
  {
   "cell_type": "code",
   "execution_count": 11,
   "id": "aa7627ae-4fff-45e7-af61-29a1f9766a80",
   "metadata": {},
   "outputs": [
    {
     "data": {
      "text/plain": [
       "array([0.33333333, 0.66666667, 1.        , 1.33333333])"
      ]
     },
     "execution_count": 11,
     "metadata": {},
     "output_type": "execute_result"
    }
   ],
   "source": [
    "arr / 3"
   ]
  },
  {
   "cell_type": "code",
   "execution_count": 12,
   "id": "583a1ff7-5751-4a3c-91f6-07ed76131eea",
   "metadata": {},
   "outputs": [
    {
     "data": {
      "text/plain": [
       "array([1, 2, 3, 4])"
      ]
     },
     "execution_count": 12,
     "metadata": {},
     "output_type": "execute_result"
    }
   ],
   "source": [
    "arr"
   ]
  },
  {
   "cell_type": "markdown",
   "id": "3f4e3267-8ce0-423d-8e2d-32714dd3d17e",
   "metadata": {},
   "source": [
    "### 배열끼리의 사칙연산"
   ]
  },
  {
   "cell_type": "code",
   "execution_count": 14,
   "id": "09d16f1f-4424-4679-9cdd-66167dc035d8",
   "metadata": {},
   "outputs": [],
   "source": [
    "arr1 = np.array([1, 2, 3])\n",
    "arr2 = np.array([4, 5, 6])\n",
    "arr3 = np.array([7, 8, 9, 10])"
   ]
  },
  {
   "cell_type": "code",
   "execution_count": 15,
   "id": "31000160-dfa6-4047-a0b1-8f5d31e8c20e",
   "metadata": {},
   "outputs": [
    {
     "data": {
      "text/plain": [
       "array([5, 7, 9])"
      ]
     },
     "execution_count": 15,
     "metadata": {},
     "output_type": "execute_result"
    }
   ],
   "source": [
    "arr1 + arr2 # 각각 대응되는 요소끼리 더해짐"
   ]
  },
  {
   "cell_type": "code",
   "execution_count": 16,
   "id": "53e3e86b-db03-4783-9921-30dab15b2aaf",
   "metadata": {},
   "outputs": [
    {
     "ename": "ValueError",
     "evalue": "operands could not be broadcast together with shapes (3,) (4,) ",
     "output_type": "error",
     "traceback": [
      "\u001b[1;31m---------------------------------------------------------------------------\u001b[0m",
      "\u001b[1;31mValueError\u001b[0m                                Traceback (most recent call last)",
      "Cell \u001b[1;32mIn[16], line 1\u001b[0m\n\u001b[1;32m----> 1\u001b[0m arr1 \u001b[38;5;241m+\u001b[39m arr3\n",
      "\u001b[1;31mValueError\u001b[0m: operands could not be broadcast together with shapes (3,) (4,) "
     ]
    }
   ],
   "source": [
    "arr1 + arr3"
   ]
  },
  {
   "cell_type": "code",
   "execution_count": null,
   "id": "522b0b24-0e6d-4d2d-b3ca-2d599fac292e",
   "metadata": {
    "scrolled": true
   },
   "outputs": [],
   "source": [
    "# 배열끼리의 여러가지 연산\n",
    "print(arr2 + arr1)\n",
    "print(arr2 - arr1)\n",
    "print(arr2 * arr1)\n",
    "print(arr2 / arr1)\n",
    "print(arr2 // arr1)\n",
    "print(arr2 % arr1)\n"
   ]
  },
  {
   "cell_type": "code",
   "execution_count": null,
   "id": "977622a0-a547-4b9b-a1d0-c6bb7404323e",
   "metadata": {},
   "outputs": [],
   "source": [
    "# 정수와 실수를 같이 넣었을 때\n",
    "arr_f = np.array([4, 2.5, 2]) # 업캐스팅\n",
    "\n",
    "arr_f"
   ]
  },
  {
   "cell_type": "markdown",
   "id": "f9b72e33-f178-4ff2-893f-ead4ff65a7ef",
   "metadata": {},
   "source": [
    "### 문자형 자료가 담겨있는 배열"
   ]
  },
  {
   "cell_type": "code",
   "execution_count": null,
   "id": "7dd6bcd6-8ba4-42f9-96b5-3c3fa13c8f04",
   "metadata": {},
   "outputs": [],
   "source": [
    "arr_str = np.array(['a','b','c','d']) # < :주소의 크기가 작은 것부터 저장한다. U : 유니코드 문자열 1 : 가장 긴 문자열 길이? 데이터 할당 길이\n",
    "arr_str # 숫자를 문자형으로 바꾸면 11배정도"
   ]
  },
  {
   "cell_type": "code",
   "execution_count": null,
   "id": "8469ae4a-86d9-4530-a323-c4cf6ca3239c",
   "metadata": {},
   "outputs": [],
   "source": [
    "arr_str + arr_str"
   ]
  },
  {
   "cell_type": "markdown",
   "id": "36944ffe-7772-43b9-95b3-ad2680ba7da2",
   "metadata": {},
   "source": [
    "# arr_str2 = np.array(['a', 'b', 3, 4]) # 업캐스팅\n",
    "arr_str2"
   ]
  },
  {
   "cell_type": "markdown",
   "id": "b0403b07-287d-4fde-a65c-a6f453d98ce3",
   "metadata": {},
   "source": [
    "### 2차원 배열"
   ]
  },
  {
   "cell_type": "code",
   "execution_count": null,
   "id": "953f2209-6a90-4341-a72a-ac2aead82ec5",
   "metadata": {},
   "outputs": [],
   "source": [
    "arr2 = np.array([[1,2,3],[4,5,6]]) #개수 맞아야 함\n",
    "\n",
    "arr2"
   ]
  },
  {
   "cell_type": "code",
   "execution_count": null,
   "id": "e1195509-5239-483f-88f5-d2ddee8042bc",
   "metadata": {},
   "outputs": [],
   "source": [
    "# ndim : 배열의 차원을 확인해주는 함수 배열 자체에 속한 함수\n",
    "\n",
    "arr2.ndim"
   ]
  },
  {
   "cell_type": "code",
   "execution_count": null,
   "id": "0c2a209c-ca2e-40fd-9f44-9d5e85d515f5",
   "metadata": {},
   "outputs": [],
   "source": [
    "# shape 배열의 형태(행, 열)\n",
    "\n",
    "arr2.shape"
   ]
  },
  {
   "cell_type": "code",
   "execution_count": null,
   "id": "4cc4e89c-000b-4906-84f2-ebe7bb556f28",
   "metadata": {},
   "outputs": [],
   "source": [
    "# size : 배열의 요소 전체 개수, shape의 행, 열 곱하기\n",
    "\n",
    "arr2.size"
   ]
  },
  {
   "cell_type": "code",
   "execution_count": null,
   "id": "ef0f66ee-d5f0-4429-b476-f96ea8f9cf10",
   "metadata": {},
   "outputs": [],
   "source": [
    "# dtype : 배열 내 데이터들의 타입(자료형)\n",
    "arr2.dtype"
   ]
  },
  {
   "attachments": {
    "bd767363-672e-419d-9068-5729ce892a86.png": {
     "image/png": "[encoded data removed]"
    }
   },
   "cell_type": "markdown",
   "id": "05d8a663-45da-496d-b9fe-c0491bfb3b75",
   "metadata": {},
   "source": [
    "![image.png](attachment:bd767363-672e-419d-9068-5729ce892a86.png)"
   ]
  },
  {
   "cell_type": "code",
   "execution_count": null,
   "id": "386567b0-87b2-49f6-aabf-62e914f16038",
   "metadata": {},
   "outputs": [],
   "source": [
    "array = np.array([[[1, 2, 3],[4, 5, 6]],[[7, 8, 9],[10, 11, 12]]])\n",
    "\n",
    "array"
   ]
  },
  {
   "cell_type": "code",
   "execution_count": null,
   "id": "8c0255ce-76c6-45ca-a8ea-7a24fd148ac5",
   "metadata": {},
   "outputs": [],
   "source": [
    "array.dtype"
   ]
  },
  {
   "cell_type": "code",
   "execution_count": null,
   "id": "f77d7d11-4f0d-4472-b445-16ece51a3f6f",
   "metadata": {},
   "outputs": [],
   "source": [
    "array.ndim"
   ]
  },
  {
   "cell_type": "code",
   "execution_count": null,
   "id": "64f3def3-223c-4821-a20b-a92eab6e5c24",
   "metadata": {},
   "outputs": [],
   "source": [
    "array.size"
   ]
  },
  {
   "cell_type": "code",
   "execution_count": null,
   "id": "09a6fb5b-1afe-4ff5-bb1b-39310fa49cc9",
   "metadata": {},
   "outputs": [],
   "source": [
    "array.shape"
   ]
  },
  {
   "cell_type": "markdown",
   "id": "cdf45a32-519d-480b-a792-775c99b311c5",
   "metadata": {},
   "source": [
    "### 편리한 배열 생성"
   ]
  },
  {
   "cell_type": "code",
   "execution_count": null,
   "id": "412338f4-521a-488e-ae37-15ecc8ba87cb",
   "metadata": {},
   "outputs": [],
   "source": [
    "# 모든 값을 0으로 넣어서 배열 생성\n",
    "# zeros((형태))\n",
    "\n",
    "arr_0 = np.zeros((3, 3, 2))\n",
    "\n",
    "arr_0"
   ]
  },
  {
   "cell_type": "code",
   "execution_count": null,
   "id": "fa11d01d-04d7-4edc-a08e-a9883cdf3dfc",
   "metadata": {},
   "outputs": [],
   "source": [
    "arr_0.dtype"
   ]
  },
  {
   "cell_type": "code",
   "execution_count": null,
   "id": "bebcc33c-c031-4ae4-ae26-329b95ea8041",
   "metadata": {},
   "outputs": [],
   "source": [
    "# 1로 배열 생성\n",
    "# ones\n",
    "\n",
    "arr_1 = np.ones((2, 4, 3), dtype=np.int32) # 데이터타입을 정수형으로\n",
    "arr_1"
   ]
  },
  {
   "cell_type": "code",
   "execution_count": null,
   "id": "7560c0a3-b6e5-443d-aa90-83c5c70cdb04",
   "metadata": {},
   "outputs": [],
   "source": [
    "# 특정 값으로 배열 생성하기\n",
    "# full\n",
    "# np.full((형태), 값)\n",
    "\n",
    "arr_f = np.full((2,3,2), 4)\n",
    "arr_f"
   ]
  },
  {
   "cell_type": "code",
   "execution_count": null,
   "id": "143b5243-7684-4b8a-8318-8e2c5c641e1f",
   "metadata": {},
   "outputs": [],
   "source": [
    "# np.arange()  : range() 시퀀스로 배열 생성\n",
    "# np.arange(시작할 값, 끝값(포함하지 않음), 증감량)\n",
    "\n",
    "arr_a = np.arange(1, 13, 1)\n",
    "\n",
    "arr_a"
   ]
  },
  {
   "cell_type": "code",
   "execution_count": null,
   "id": "885523e4-fe7b-41e7-a6d4-ac8939b56e9e",
   "metadata": {},
   "outputs": [],
   "source": [
    "arr_a = np.arange(1, 13, 3)\n",
    "arr_a"
   ]
  },
  {
   "cell_type": "code",
   "execution_count": null,
   "id": "d90d12eb-ccbe-413f-8dec-52fd5bf4a89f",
   "metadata": {},
   "outputs": [],
   "source": [
    "arr_a = np.arange(12)\n",
    "arr_a"
   ]
  },
  {
   "cell_type": "code",
   "execution_count": null,
   "id": "321ea15c-b4e7-488a-bca1-b69fc95d7c2a",
   "metadata": {},
   "outputs": [],
   "source": [
    "# reshape : 배열의 형태(shape) 재설정\n",
    "# 배열자체가 바뀌진 않음(재할당 해야함)\n",
    "# 3 * 4 = 12\n",
    "\n",
    "arr_b = arr_a.reshape(3, 2, 2)\n",
    "arr_b"
   ]
  },
  {
   "cell_type": "code",
   "execution_count": null,
   "id": "5cd09e8f-5e30-41d2-acd1-21cbd22d71b7",
   "metadata": {},
   "outputs": [],
   "source": [
    "arr_a"
   ]
  },
  {
   "cell_type": "markdown",
   "id": "29610ad9-b46c-4919-bb5c-26ab691e57a5",
   "metadata": {},
   "source": [
    "### array의 데이터 접근\n",
    "- array는 리스트와 마찬가지로 인덱싱, 슬라이싱 가능"
   ]
  },
  {
   "cell_type": "markdown",
   "id": "38c3c725-9b11-4fa6-840a-36ba99a16864",
   "metadata": {},
   "source": [
    "### 인덱싱"
   ]
  },
  {
   "cell_type": "code",
   "execution_count": null,
   "id": "e35d1fb5-c3b4-46f7-9635-678c7fa7efbc",
   "metadata": {},
   "outputs": [],
   "source": [
    "arr1 = np.array([[1,2,3],[4,5,6]])\n",
    "arr1"
   ]
  },
  {
   "cell_type": "code",
   "execution_count": null,
   "id": "37291b57-8ac0-43de-949c-a13c8a775435",
   "metadata": {},
   "outputs": [],
   "source": [
    "arr1[0]"
   ]
  },
  {
   "cell_type": "code",
   "execution_count": null,
   "id": "0103cc98-3069-40ca-8379-d9ce1a7cf3dc",
   "metadata": {},
   "outputs": [],
   "source": [
    "# 숫자 2를 인덱싱\n",
    "# array([1, 2, 3])의 1번 인덱스\n",
    "\n",
    "arr1[0][1]"
   ]
  },
  {
   "cell_type": "code",
   "execution_count": null,
   "id": "ffdefa66-54f2-4a25-9b83-f6ec6d9c6096",
   "metadata": {},
   "outputs": [],
   "source": [
    "# 인덱싱해서 값 변경\n",
    "print('변경 전 \\n', arr1)\n",
    "\n",
    "# 값 변경\n",
    "\n",
    "# arr1[0] = [11,12,13]\n",
    "# arr1[0] = [11,12] -> 안됨\n",
    "arr1[0] = 10\n",
    "\n",
    "print('변경 후', arr1 , end = '\\n')\n",
    "\n",
    "# 배열은 크기 변경 불가\n",
    "# 배열의 원소 구조는 모두 동일"
   ]
  },
  {
   "cell_type": "markdown",
   "id": "33cf5eef-a619-4185-9d7e-bca26b19a747",
   "metadata": {},
   "source": [
    "### 슬라이싱"
   ]
  },
  {
   "cell_type": "code",
   "execution_count": null,
   "id": "2036527f-91bc-4ea7-94de-0a252ff9ae0c",
   "metadata": {},
   "outputs": [],
   "source": [
    "arr2 = np.arange(9).reshape(3,3)\n",
    "# 0~8까지ㅣ의 숫자로 배열을 만드는데, 3행 3열의 형태로 만든다.\n",
    "\n",
    "arr2"
   ]
  },
  {
   "cell_type": "code",
   "execution_count": null,
   "id": "85e6c14b-5597-4e79-bf43-9c2a8c035dfb",
   "metadata": {},
   "outputs": [],
   "source": [
    "arr2[:2]"
   ]
  },
  {
   "cell_type": "code",
   "execution_count": null,
   "id": "9bf98e0d-b6d1-4c8c-8c78-d5f9b9787ee6",
   "metadata": {},
   "outputs": [],
   "source": [
    "print('인덱싱 :', arr2[0]) #해당 요소를 갖고옴\n",
    "print('슬라이싱 :', arr2[:1]) # 요소들을 배열의 행태로 갖고옴"
   ]
  },
  {
   "cell_type": "code",
   "execution_count": null,
   "id": "54be167f-ffc8-4fda-9bb2-a6937769bdca",
   "metadata": {},
   "outputs": [],
   "source": [
    "# [4,5]를 슬라이싱\n",
    "# 인덱싱 후 슬라이싱\n",
    "arr2[1][1:]"
   ]
  },
  {
   "cell_type": "code",
   "execution_count": null,
   "id": "f730145a-932e-441e-aef6-c479b178189b",
   "metadata": {},
   "outputs": [],
   "source": [
    "# arr2[1][1:] = [10, 11]\n",
    "# arr2[1][1:] = 10, 11\n",
    "arr2[1][1:] = 10\n",
    "\n",
    "arr2"
   ]
  },
  {
   "cell_type": "markdown",
   "id": "920d0c22-85bc-4ab3-8ccf-1c407d6a3cf6",
   "metadata": {},
   "source": [
    "### 2차원 배열에서의 데이터 접근"
   ]
  },
  {
   "cell_type": "code",
   "execution_count": null,
   "id": "0606f94e-b232-4b64-9648-4c561b9ed6b8",
   "metadata": {},
   "outputs": [],
   "source": [
    "# 2차원 배열\n",
    "arr3 = np.arange(50).reshape(5,10)\n",
    "\n",
    "arr3"
   ]
  },
  {
   "cell_type": "code",
   "execution_count": null,
   "id": "6a778f79-ef53-40bb-a148-ec90011d9038",
   "metadata": {},
   "outputs": [],
   "source": [
    "# arr[행의 범위, 열의 범위] \",\"로 행과 열을 구분\n",
    "\n",
    "# 0~1번 행 인덱스, 0~5번 열 인덱스\n",
    "\n",
    "arr3[:2 , :6]"
   ]
  },
  {
   "cell_type": "code",
   "execution_count": null,
   "id": "a6b15513-4e8d-4c5a-a3dc-f5e715047ab1",
   "metadata": {},
   "outputs": [],
   "source": [
    "# 모든 행의 0번 열\n",
    "# arr3[:, 0:1]\n",
    "\n",
    "arr3[:, 0]"
   ]
  },
  {
   "cell_type": "code",
   "execution_count": null,
   "id": "8c9104a5-95ed-43e0-a93b-61318f0c03b3",
   "metadata": {},
   "outputs": [],
   "source": [
    "# 행 범위의 생략된 부분을 적어보자\n",
    "\n",
    "arr3[0:5:2, 0]\n",
    "# 0부터 4까지 슬라이싱\n",
    "# 증감량 1일 경우 생략가능"
   ]
  },
  {
   "cell_type": "code",
   "execution_count": null,
   "id": "7a173f19-4850-490e-b18c-6a369407e500",
   "metadata": {},
   "outputs": [],
   "source": [
    "arr3[::2, 0]"
   ]
  },
  {
   "cell_type": "code",
   "execution_count": null,
   "id": "79ca824b-6351-4423-b309-feb864996eec",
   "metadata": {},
   "outputs": [],
   "source": [
    "arr4 = np.arange(18).reshape(3,6)\n",
    "\n",
    "arr4"
   ]
  },
  {
   "cell_type": "code",
   "execution_count": null,
   "id": "06cafbf6-03b2-4dc2-90f1-e1948d2277e6",
   "metadata": {},
   "outputs": [],
   "source": [
    "# [7,9,11],[13,15,17] 을 가져온다\n",
    "\n",
    "# 열의 범위를 어떻게 입력할까?\n",
    "# 열의 범위 입력 형식은 자유롭다.\n",
    "\n",
    "# 열의 범위 : 슬라이싱, 인덱싱, 시퀀스"
   ]
  },
  {
   "cell_type": "code",
   "execution_count": null,
   "id": "e5ce70d0-5bd1-417b-bf3d-67dff31a9518",
   "metadata": {},
   "outputs": [],
   "source": [
    "# 방법 1\n",
    "# 열의 범위를 슬라이싱으로 입력\n",
    "arr4[ 1: , 1::2]"
   ]
  },
  {
   "cell_type": "code",
   "execution_count": null,
   "id": "13d1789e-a13c-494f-8b1c-9505538e50a8",
   "metadata": {},
   "outputs": [],
   "source": [
    "# 방법 2\n",
    "# 열의 범위를 리스트로 입력\n",
    "arr4[ 1: , [1, 3, 5] ]"
   ]
  },
  {
   "cell_type": "code",
   "execution_count": null,
   "id": "f4244450-525a-41bc-9d82-88583cc2ff45",
   "metadata": {},
   "outputs": [],
   "source": [
    "# 방법 3\n",
    "# 열의 범위를 시퀀스로 입력\n",
    "arr4[ 1: , range(1,6,2) ]"
   ]
  },
  {
   "cell_type": "code",
   "execution_count": null,
   "id": "e2a96348-45a0-47d0-815a-561bdbd8d164",
   "metadata": {},
   "outputs": [],
   "source": [
    "arr4[[0,1],[1,3]]"
   ]
  },
  {
   "cell_type": "code",
   "execution_count": null,
   "id": "fba228c2-6e82-47f9-add6-3de9349746ad",
   "metadata": {},
   "outputs": [],
   "source": [
    "# 전치\n",
    "arr4\n",
    "# 3행 6열"
   ]
  },
  {
   "cell_type": "code",
   "execution_count": null,
   "id": "cb9b6fc3-160b-4b2d-b1a3-789cbc1510e3",
   "metadata": {},
   "outputs": [],
   "source": [
    "arr4.T\n",
    "\n",
    "# 행과 열을 바꿔주는 함수 (transpositon 전치)"
   ]
  },
  {
   "cell_type": "code",
   "execution_count": null,
   "id": "5208b6eb-cba9-406a-a8a6-c19a0965431b",
   "metadata": {},
   "outputs": [],
   "source": [
    "arr4"
   ]
  },
  {
   "cell_type": "code",
   "execution_count": null,
   "id": "f7cfed39-37a7-40ef-9d3f-190bf922bd5f",
   "metadata": {},
   "outputs": [],
   "source": [
    "arr4 = np.arange(18).reshape(3,6)\n",
    "\n",
    "# arr4 [ range(0,2) , range(1,6,2)]\n",
    "# arr4 [   [0,1]    ,   [1,3,5]   ]   # 원소구조 다름 : 에러,\n",
    "\n",
    "# arr4 [ range(1,3) , range(1,6,2)]\n",
    "# arr4 [   [1,2]    ,   [1,3,5]   ]   # 원소구조 다름 : 에러,\n",
    "\n",
    "print(arr4 [ range(0,1) , range(1,6,2)])\n",
    "#          [      0     , [1,3,5]     ]   # 한쪽만 리스트 인덱싱의 형태 : 상관없음\n",
    "\n",
    "print(arr4 [ range(1,2) , range(1,6,2)])\n",
    "#          [      1     , [1,3,5]     ]   # 한쪽만 리스트 인덱싱의 형태 : 상관없음\n",
    "\n",
    "print(arr4 [ range(0,3) , range(1,6,2)])\n",
    "#          [  [0,1,2]   ,   [1,3,5]   ]   # 원소구조 같음, 행과 열이 대응되는 값(0행1열, 1행3열, 2행5열) 출력 "
   ]
  },
  {
   "cell_type": "code",
   "execution_count": 28,
   "id": "9dfd513e-c2fe-4c00-9d2c-81446e6fc23f",
   "metadata": {},
   "outputs": [
    {
     "data": {
      "text/plain": [
       "array([59, 51, 85, 71, 54, 65, 85, 96])"
      ]
     },
     "execution_count": 28,
     "metadata": {},
     "output_type": "execute_result"
    }
   ],
   "source": [
    "# 랜덤수로 배열 만들기\n",
    "# random.randint(시작값, 끝값(미포함), size)\n",
    "\n",
    "arr5 = np.random.randint(50,100,size=8)\n",
    "# 50에서 99까지의 8개의 값을 가지는 정수 난수 배열 생성\n",
    "# 실행할때마다 값이 바뀜\n",
    "arr5"
   ]
  },
  {
   "cell_type": "markdown",
   "id": "5caf6830-67a3-4505-958b-45c6a7741f36",
   "metadata": {},
   "source": [
    "### numpy 불리언(Boolean) 인덱싱\n",
    "- 특정 조건에 맞는 값들을 찾아내고 싶을 때\n",
    "- 사용법 : 인덱스 주소 대신, '조건식'을 입력한다!!!"
   ]
  },
  {
   "cell_type": "code",
   "execution_count": 30,
   "id": "d0916637-8994-44ef-bb18-6a8df90ef395",
   "metadata": {},
   "outputs": [
    {
     "data": {
      "text/plain": [
       "True"
      ]
     },
     "execution_count": 30,
     "metadata": {},
     "output_type": "execute_result"
    }
   ],
   "source": [
    "# 간단히 파이썬에서 불리언값 호출\n",
    "# 조건식\n",
    "a = 5\n",
    "\n",
    "a>3"
   ]
  },
  {
   "cell_type": "code",
   "execution_count": 32,
   "id": "9adf449d-aae6-45a0-8247-9024004a1df9",
   "metadata": {},
   "outputs": [
    {
     "data": {
      "text/plain": [
       "bool"
      ]
     },
     "execution_count": 32,
     "metadata": {},
     "output_type": "execute_result"
    }
   ],
   "source": [
    "type(a<3)"
   ]
  },
  {
   "cell_type": "code",
   "execution_count": 34,
   "id": "f227b347-4b0e-4c23-a2fa-7ec76f4d8501",
   "metadata": {},
   "outputs": [
    {
     "data": {
      "text/plain": [
       "array([False, False,  True,  True, False,  True,  True,  True])"
      ]
     },
     "execution_count": 34,
     "metadata": {},
     "output_type": "execute_result"
    }
   ],
   "source": [
    "# arr를 사용해서 조건식\n",
    "arr5>=65"
   ]
  },
  {
   "cell_type": "code",
   "execution_count": 36,
   "id": "9606ce5c-8f4f-4c8e-a27d-e6de60d8d4f0",
   "metadata": {},
   "outputs": [
    {
     "data": {
      "text/plain": [
       "numpy.ndarray"
      ]
     },
     "execution_count": 36,
     "metadata": {},
     "output_type": "execute_result"
    }
   ],
   "source": [
    "type(arr5>=65)"
   ]
  },
  {
   "cell_type": "code",
   "execution_count": 46,
   "id": "93ca3eea-8038-4586-abb1-c0441354eeb4",
   "metadata": {},
   "outputs": [
    {
     "data": {
      "text/plain": [
       "array([False, False,  True,  True, False,  True,  True, False])"
      ]
     },
     "execution_count": 46,
     "metadata": {},
     "output_type": "execute_result"
    }
   ],
   "source": [
    "# 다중 조건\n",
    "# 65이상이고, 85이하\n",
    "\n",
    "# numpy에서는 and, or 사용 불가능\n",
    "# numpy에서는 비트연산자 &, | 를 사용합니다. numpy 내부코드가 비트연산을 기반으로 만들어짐.\n",
    "# & : and\n",
    "# | : or\n",
    "# 괄호 붙여줘야함\n",
    "\n",
    "(arr5>=65) & (arr5<=85)"
   ]
  },
  {
   "cell_type": "code",
   "execution_count": 48,
   "id": "ee882960-f230-44b6-88b7-a938dd0405a5",
   "metadata": {},
   "outputs": [
    {
     "data": {
      "text/plain": [
       "array([False, False, False, False,  True, False, False,  True])"
      ]
     },
     "execution_count": 48,
     "metadata": {},
     "output_type": "execute_result"
    }
   ],
   "source": [
    "# 짝수값 판단하는 조건식\n",
    "arr5 % 2 == 0\n",
    "\n",
    "# 불리언 인덱싱을 위한 '재료'"
   ]
  },
  {
   "cell_type": "code",
   "execution_count": 50,
   "id": "c983b35a-f979-4906-bfd8-b0719315986a",
   "metadata": {},
   "outputs": [
    {
     "data": {
      "text/plain": [
       "array([59, 51, 85, 71, 54, 65, 85, 96])"
      ]
     },
     "execution_count": 50,
     "metadata": {},
     "output_type": "execute_result"
    }
   ],
   "source": [
    "arr5"
   ]
  },
  {
   "cell_type": "code",
   "execution_count": 52,
   "id": "675a5a7e-db59-437c-aca2-e2b65d6a6a72",
   "metadata": {},
   "outputs": [
    {
     "data": {
      "text/plain": [
       "array([54, 96])"
      ]
     },
     "execution_count": 52,
     "metadata": {},
     "output_type": "execute_result"
    }
   ],
   "source": [
    "# True에 해당하는 값들을 가져온다.\n",
    "# 인덱싱을 하는데, 인덱스 주소 대신에, '조건식'을 입력한다.\n",
    "\n",
    "arr5[arr5 % 2 == 0]"
   ]
  },
  {
   "cell_type": "code",
   "execution_count": 54,
   "id": "5495be52-a793-4a97-a5d9-481068c8a5b2",
   "metadata": {},
   "outputs": [],
   "source": [
    "# 2차원 배열\n",
    "\n",
    "arr6 = np.array([[6,9,6,8,7], [2,3,5,4,1]])"
   ]
  },
  {
   "cell_type": "code",
   "execution_count": 56,
   "id": "b2449ad9-26c0-498d-816a-5d830bbcf117",
   "metadata": {},
   "outputs": [],
   "source": [
    "arr6[arr6 % 2 == 0] = 0"
   ]
  },
  {
   "cell_type": "code",
   "execution_count": 58,
   "id": "98692930-5199-4ab5-bf28-15daa1360c11",
   "metadata": {},
   "outputs": [
    {
     "data": {
      "text/plain": [
       "array([[0, 9, 0, 0, 7],\n",
       "       [0, 3, 5, 0, 1]])"
      ]
     },
     "execution_count": 58,
     "metadata": {},
     "output_type": "execute_result"
    }
   ],
   "source": [
    "arr6"
   ]
  },
  {
   "cell_type": "markdown",
   "id": "e7c94f18-d211-4f4f-ae09-2d2f0d0cafb3",
   "metadata": {},
   "source": [
    "### 합계와 평균을 구하는 함수"
   ]
  },
  {
   "cell_type": "code",
   "execution_count": 60,
   "id": "69833fa9-b89e-438b-9538-ce91c2e6a7b6",
   "metadata": {},
   "outputs": [
    {
     "data": {
      "text/plain": [
       "array([[1, 2, 3],\n",
       "       [4, 5, 6]])"
      ]
     },
     "execution_count": 60,
     "metadata": {},
     "output_type": "execute_result"
    }
   ],
   "source": [
    "arr7 = np.array([[1,2,3],[4,5,6]])\n",
    "\n",
    "arr7"
   ]
  },
  {
   "cell_type": "code",
   "execution_count": 63,
   "id": "bad73983-4040-4cae-a392-aedcf34e7533",
   "metadata": {},
   "outputs": [
    {
     "data": {
      "text/plain": [
       "21"
      ]
     },
     "execution_count": 63,
     "metadata": {},
     "output_type": "execute_result"
    }
   ],
   "source": [
    "# 합계\n",
    "# arr.sum()\n",
    "\n",
    "arr7.sum()\n",
    "# 배열 객체에 속한 메서드 "
   ]
  },
  {
   "cell_type": "code",
   "execution_count": 69,
   "id": "a1bcf3e7-02c7-4b09-a38e-cab89e437507",
   "metadata": {},
   "outputs": [
    {
     "name": "stdout",
     "output_type": "stream",
     "text": [
      "21\n",
      "21\n",
      "21\n"
     ]
    }
   ],
   "source": [
    "# np.sum(시퀀스형)\n",
    "print(np.sum(arr7))\n",
    "print(np.sum([1,2,3,4,5,6]))\n",
    "print(np.sum(range(1,7)))"
   ]
  },
  {
   "cell_type": "code",
   "execution_count": 75,
   "id": "d4747295-6721-4683-8fc2-44bcd1ddade1",
   "metadata": {},
   "outputs": [
    {
     "data": {
      "text/plain": [
       "3.5"
      ]
     },
     "execution_count": 75,
     "metadata": {},
     "output_type": "execute_result"
    }
   ],
   "source": [
    "# 평균\n",
    "# arr.mean()\n",
    "\n",
    "arr7.mean()\n",
    "# 배열 객체에 속한 메서드"
   ]
  },
  {
   "cell_type": "code",
   "execution_count": 77,
   "id": "a9324db8-a09e-4809-beb9-a3e40fa98bce",
   "metadata": {},
   "outputs": [
    {
     "name": "stdout",
     "output_type": "stream",
     "text": [
      "3.5\n",
      "3.5\n",
      "3.5\n"
     ]
    }
   ],
   "source": [
    "# np.mean(시퀀스형)\n",
    "print(np.mean(arr7))\n",
    "print(np.mean([1,2,3,4,5,6]))\n",
    "print(np.mean(range(1,7)))"
   ]
  }
 ],
 "metadata": {
  "kernelspec": {
   "display_name": "Python 3 (ipykernel)",
   "language": "python",
   "name": "python3"
  },
  "language_info": {
   "codemirror_mode": {
    "name": "ipython",
    "version": 3
   },
   "file_extension": ".py",
   "mimetype": "text/x-python",
   "name": "python",
   "nbconvert_exporter": "python",
   "pygments_lexer": "ipython3",
   "version": "3.12.4"
  }
 },
 "nbformat": 4,
 "nbformat_minor": 5
}
