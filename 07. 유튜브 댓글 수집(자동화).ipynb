{
 "cells": [
  {
   "cell_type": "code",
   "execution_count": 1,
   "id": "ebfb7d13-d5e8-42e3-8072-9d1d3be4aa83",
   "metadata": {},
   "outputs": [],
   "source": [
    "import numpy as np\n",
    "import pandas as pd\n",
    "\n",
    "from selenium import webdriver as wb\n",
    "from selenium.webdriver.common.by import By\n",
    "from selenium.webdriver.common.keys import Keys\n",
    "\n",
    "import time\n",
    "from tqdm import tqdm"
   ]
  },
  {
   "cell_type": "code",
   "execution_count": 3,
   "id": "99620493-0e33-4423-af6a-c20b761aa4e6",
   "metadata": {},
   "outputs": [],
   "source": [
    "# 유튜브 - 자이언츠\n",
    "url = \"https://www.youtube.com/watch?v=9YrKKnuabp0\""
   ]
  },
  {
   "cell_type": "code",
   "execution_count": 5,
   "id": "e0d1df70-5c52-42ca-b8ab-f4b36551e5d5",
   "metadata": {},
   "outputs": [],
   "source": [
    "# 테스트 브라우저 열기\n",
    "driver = wb.Chrome()\n",
    "driver.get(url)"
   ]
  },
  {
   "cell_type": "code",
   "execution_count": 7,
   "id": "d61189ec-aba3-4683-8773-a60d328a8b84",
   "metadata": {},
   "outputs": [],
   "source": [
    "driver.maximize_window()"
   ]
  },
  {
   "cell_type": "code",
   "execution_count": 9,
   "id": "c1135e1b-7596-489a-aa0c-fa1ab1dc9996",
   "metadata": {},
   "outputs": [],
   "source": [
    "# 모든 댓글을 수집하기에는 시간이 많이 걸림..\n",
    "# 5번만 스크롤 하강 수행\n",
    "\n",
    "for i in range(5):\n",
    "    body = driver.find_element(By.TAG_NAME, \"body\")\n",
    "    body.send_keys(Keys.END)\n",
    "    time.sleep(2)"
   ]
  },
  {
   "cell_type": "code",
   "execution_count": 21,
   "id": "1be590ea-9ee7-4dc1-9691-7ac336e5c563",
   "metadata": {},
   "outputs": [
    {
     "data": {
      "text/plain": [
       "<selenium.webdriver.remote.webelement.WebElement (session=\"a6f44536ca6cfa0ef9a74693de03af61\", element=\"f.56AA27C93D2D059DEAED0CD8BBA6DD62.d.B1BFE419DC40528F724173BEDA9D204A.e.1238\")>"
      ]
     },
     "execution_count": 21,
     "metadata": {},
     "output_type": "execute_result"
    }
   ],
   "source": [
    "driver.find_element(By.CSS_SELECTOR, \"yt-attributed-string\")"
   ]
  },
  {
   "cell_type": "code",
   "execution_count": 23,
   "id": "964fc48f-e56f-4b5e-b1e3-6b450a004678",
   "metadata": {},
   "outputs": [],
   "source": [
    "driver.quit()"
   ]
  },
  {
   "cell_type": "code",
   "execution_count": null,
   "id": "53abbac4-cb6b-4786-becf-37079e929402",
   "metadata": {},
   "outputs": [],
   "source": []
  },
  {
   "cell_type": "code",
   "execution_count": null,
   "id": "69f2c2de-21e4-4046-b1bd-e4a71d04c6f3",
   "metadata": {},
   "outputs": [],
   "source": []
  },
  {
   "cell_type": "code",
   "execution_count": null,
   "id": "362ee56d-9740-4011-ad1f-ab78a6597eba",
   "metadata": {},
   "outputs": [],
   "source": []
  },
  {
   "cell_type": "code",
   "execution_count": null,
   "id": "1feeed9d-c331-4334-ab02-93d1cfd67f76",
   "metadata": {},
   "outputs": [],
   "source": []
  },
  {
   "cell_type": "code",
   "execution_count": null,
   "id": "eac21c97-d736-4e02-a25c-2f9c81f950ab",
   "metadata": {},
   "outputs": [],
   "source": []
  },
  {
   "cell_type": "code",
   "execution_count": null,
   "id": "7f8c5f2e-f322-46ca-b13a-52c206401e91",
   "metadata": {},
   "outputs": [],
   "source": []
  },
  {
   "cell_type": "code",
   "execution_count": null,
   "id": "1ef6816f-72a6-402c-9f47-b507457398d1",
   "metadata": {},
   "outputs": [],
   "source": []
  },
  {
   "cell_type": "code",
   "execution_count": null,
   "id": "abc95c77-0cb4-470d-b934-d53cd9803756",
   "metadata": {},
   "outputs": [],
   "source": []
  },
  {
   "cell_type": "code",
   "execution_count": null,
   "id": "41f750ef-1215-46e1-beb6-7e93a9708105",
   "metadata": {},
   "outputs": [],
   "source": []
  },
  {
   "cell_type": "code",
   "execution_count": null,
   "id": "9c50c9db-ddaf-4b12-9e4d-f6ec779c6488",
   "metadata": {},
   "outputs": [],
   "source": []
  },
  {
   "cell_type": "code",
   "execution_count": null,
   "id": "35741349-8ac8-46e8-ad06-9e727a346965",
   "metadata": {},
   "outputs": [],
   "source": []
  },
  {
   "cell_type": "code",
   "execution_count": null,
   "id": "3b510af7-4d4f-4fe8-b395-9e745dd3d57d",
   "metadata": {},
   "outputs": [],
   "source": []
  },
  {
   "cell_type": "code",
   "execution_count": null,
   "id": "97b636df-1f14-4131-81e6-79d3127f6302",
   "metadata": {},
   "outputs": [],
   "source": []
  },
  {
   "cell_type": "code",
   "execution_count": null,
   "id": "f0ece68d-49b9-4723-898b-61f00960e83a",
   "metadata": {},
   "outputs": [],
   "source": []
  },
  {
   "cell_type": "code",
   "execution_count": null,
   "id": "11b8d4f8-eb10-44ea-8851-74a4aa493a41",
   "metadata": {},
   "outputs": [],
   "source": []
  }
 ],
 "metadata": {
  "kernelspec": {
   "display_name": "Python 3 (ipykernel)",
   "language": "python",
   "name": "python3"
  },
  "language_info": {
   "codemirror_mode": {
    "name": "ipython",
    "version": 3
   },
   "file_extension": ".py",
   "mimetype": "text/x-python",
   "name": "python",
   "nbconvert_exporter": "python",
   "pygments_lexer": "ipython3",
   "version": "3.12.4"
  }
 },
 "nbformat": 4,
 "nbformat_minor": 5
}
