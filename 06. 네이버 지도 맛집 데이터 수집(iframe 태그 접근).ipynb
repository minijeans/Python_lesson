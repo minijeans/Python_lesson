{
 "cells": [
  {
   "cell_type": "code",
   "execution_count": 27,
   "id": "d1cb579a-4c31-4b7f-9a71-71ba6f24be19",
   "metadata": {},
   "outputs": [],
   "source": [
    "import numpy as np\n",
    "import pandas as pd\n",
    "\n",
    "from selenium import webdriver as wb\n",
    "from selenium.webdriver.common.by import By\n",
    "from selenium.webdriver.common.keys import Keys\n",
    "\n",
    "import time\n",
    "from tqdm import tqdm"
   ]
  },
  {
   "cell_type": "code",
   "execution_count": 99,
   "id": "fcecd0d3-c4e7-4f9f-bb9d-827701d1d4d5",
   "metadata": {},
   "outputs": [],
   "source": [
    "# 1. 테스트 브라우저 열어주기\n",
    "driver = wb.Chrome()\n",
    "url = \"https://map.naver.com/p?c=15.00,0,0,0,dh\" # 네이버 지도\n",
    "driver.get(url)"
   ]
  },
  {
   "cell_type": "code",
   "execution_count": 101,
   "id": "6b6feec2-aaa6-45c4-ba09-7a510a0600b8",
   "metadata": {},
   "outputs": [
    {
     "name": "stdin",
     "output_type": "stream",
     "text": [
      "검색할 단어를 입력 >>  이수역 맛집\n"
     ]
    }
   ],
   "source": [
    "# 2. 검색하기 -> 이수역 맛집\n",
    "\n",
    "query = input(\"검색할 단어를 입력 >> \")"
   ]
  },
  {
   "cell_type": "code",
   "execution_count": 103,
   "id": "23ab45f4-f6b9-46c6-af63-57aead57f451",
   "metadata": {},
   "outputs": [],
   "source": [
    "# 검색란 가져오기 \n",
    "search_input = driver.find_element(By.CSS_SELECTOR, \".input_search\")"
   ]
  },
  {
   "cell_type": "code",
   "execution_count": 105,
   "id": "34b4ca9a-8d74-4219-8e11-f64707b702b2",
   "metadata": {},
   "outputs": [],
   "source": [
    "search_input.send_keys(query + \"\\n\")"
   ]
  },
  {
   "cell_type": "code",
   "execution_count": 55,
   "id": "e7c2bc28-42e7-401a-8b3b-328a94b9d234",
   "metadata": {},
   "outputs": [
    {
     "data": {
      "text/plain": [
       "[]"
      ]
     },
     "execution_count": 55,
     "metadata": {},
     "output_type": "execute_result"
    }
   ],
   "source": [
    "# 가게명 수집해보기\n",
    "driver.find_elements(By.CSS_SELECTOR, \"div > div > span.TYaxT\")\n",
    "# li:nth-child(3) : ul태그 안에 li태그는 여러 개가 존재함, 그 중 해당li태그의 고유 번호를 의미! "
   ]
  },
  {
   "cell_type": "markdown",
   "id": "4ba59da0-f950-4724-a2f8-ce72db4c74c4",
   "metadata": {},
   "source": [
    "### iframe 태그\n",
    "- 하나의 doc에서 다른 doc을 구성하고자 할 때 사용 -> 동영상, 뮤직비디오 등\n",
    "---\n",
    "- 여태껏 했던 크롤링 -> 일반적인 접근\n",
    "- 일반적인 접근은 웹페이지 전체(doc)를 불러옴\n",
    "- iframe 내에 있는 요소에 접근하려면, 일반적인 접근으로는 불가능!"
   ]
  },
  {
   "cell_type": "code",
   "execution_count": 107,
   "id": "9582bc8b-c076-409a-8c40-e802865891d0",
   "metadata": {},
   "outputs": [],
   "source": [
    "# iframe 창 전환하는 함수\n",
    "driver.switch_to.frame(\"searchIframe\") # id값만 적어주기!"
   ]
  },
  {
   "cell_type": "code",
   "execution_count": 109,
   "id": "89fa5ce7-857d-48d1-8477-0a42e51809aa",
   "metadata": {},
   "outputs": [],
   "source": [
    "# 정상적으로 수집이 된다!\n",
    "food_stores = driver.find_elements(By.CSS_SELECTOR, \"span.TYaxT\") # 가게명"
   ]
  },
  {
   "cell_type": "code",
   "execution_count": 111,
   "id": "b2c29634-df9f-4d85-8f32-f343ce14aa42",
   "metadata": {},
   "outputs": [
    {
     "data": {
      "text/plain": [
       "[<selenium.webdriver.remote.webelement.WebElement (session=\"e40d5b6edd21a1affba7b733f6b33c0a\", element=\"f.3D349958D8710C4D72AC5DD97825D4E1.d.F3012DC98EC5B4365D54B13EBA95A39B.e.1875\")>,\n",
       " <selenium.webdriver.remote.webelement.WebElement (session=\"e40d5b6edd21a1affba7b733f6b33c0a\", element=\"f.3D349958D8710C4D72AC5DD97825D4E1.d.F3012DC98EC5B4365D54B13EBA95A39B.e.1919\")>,\n",
       " <selenium.webdriver.remote.webelement.WebElement (session=\"e40d5b6edd21a1affba7b733f6b33c0a\", element=\"f.3D349958D8710C4D72AC5DD97825D4E1.d.F3012DC98EC5B4365D54B13EBA95A39B.e.1972\")>,\n",
       " <selenium.webdriver.remote.webelement.WebElement (session=\"e40d5b6edd21a1affba7b733f6b33c0a\", element=\"f.3D349958D8710C4D72AC5DD97825D4E1.d.F3012DC98EC5B4365D54B13EBA95A39B.e.2050\")>,\n",
       " <selenium.webdriver.remote.webelement.WebElement (session=\"e40d5b6edd21a1affba7b733f6b33c0a\", element=\"f.3D349958D8710C4D72AC5DD97825D4E1.d.F3012DC98EC5B4365D54B13EBA95A39B.e.2129\")>,\n",
       " <selenium.webdriver.remote.webelement.WebElement (session=\"e40d5b6edd21a1affba7b733f6b33c0a\", element=\"f.3D349958D8710C4D72AC5DD97825D4E1.d.F3012DC98EC5B4365D54B13EBA95A39B.e.2352\")>,\n",
       " <selenium.webdriver.remote.webelement.WebElement (session=\"e40d5b6edd21a1affba7b733f6b33c0a\", element=\"f.3D349958D8710C4D72AC5DD97825D4E1.d.F3012DC98EC5B4365D54B13EBA95A39B.e.2437\")>,\n",
       " <selenium.webdriver.remote.webelement.WebElement (session=\"e40d5b6edd21a1affba7b733f6b33c0a\", element=\"f.3D349958D8710C4D72AC5DD97825D4E1.d.F3012DC98EC5B4365D54B13EBA95A39B.e.2524\")>,\n",
       " <selenium.webdriver.remote.webelement.WebElement (session=\"e40d5b6edd21a1affba7b733f6b33c0a\", element=\"f.3D349958D8710C4D72AC5DD97825D4E1.d.F3012DC98EC5B4365D54B13EBA95A39B.e.2588\")>,\n",
       " <selenium.webdriver.remote.webelement.WebElement (session=\"e40d5b6edd21a1affba7b733f6b33c0a\", element=\"f.3D349958D8710C4D72AC5DD97825D4E1.d.F3012DC98EC5B4365D54B13EBA95A39B.e.2654\")>]"
      ]
     },
     "execution_count": 111,
     "metadata": {},
     "output_type": "execute_result"
    }
   ],
   "source": [
    "food_stores"
   ]
  },
  {
   "cell_type": "markdown",
   "id": "25b5968b-74a1-45b2-985b-9660ca66232f",
   "metadata": {},
   "source": [
    "#### 가게명 말고도, 가게 주소와 전화번호 수집"
   ]
  },
  {
   "cell_type": "code",
   "execution_count": 72,
   "id": "d27b32fb-c5b4-4a2f-9098-ec3c7aa3a387",
   "metadata": {},
   "outputs": [],
   "source": [
    "food_stores[0].click()"
   ]
  },
  {
   "cell_type": "code",
   "execution_count": null,
   "id": "58882ff5-327f-40b5-a9a6-b05488495964",
   "metadata": {},
   "outputs": [],
   "source": [
    "# driver.find_element(By.CSS_SELECTOR, \"div.O8qbU.tQY7D > div > a >span.LDgIH\")\n",
    "# 현재 iframe 내에는 해당 요소가 없음!\n",
    "# 옮겨주어야 함!"
   ]
  },
  {
   "cell_type": "code",
   "execution_count": 76,
   "id": "55cd8c9e-1b24-4954-a143-ff9eaf704e9e",
   "metadata": {},
   "outputs": [],
   "source": [
    "# 이전 창으로 되돌아가는 함수\n",
    "driver.switch_to.default_content()"
   ]
  },
  {
   "cell_type": "code",
   "execution_count": 78,
   "id": "0ee6a3df-0762-4670-8a16-3aa386db2bb8",
   "metadata": {},
   "outputs": [],
   "source": [
    "driver.switch_to.frame(\"entryIframe\") # 상세 페이지로 접근"
   ]
  },
  {
   "cell_type": "code",
   "execution_count": 86,
   "id": "d61c9fce-dab0-4222-8c29-cb88f1deb8ca",
   "metadata": {},
   "outputs": [
    {
     "data": {
      "text/plain": [
       "'서울 관악구 남현1길 58 1층 힘찬정육식당'"
      ]
     },
     "execution_count": 86,
     "metadata": {},
     "output_type": "execute_result"
    }
   ],
   "source": [
    "# 주소도 잘 가져와진다!\n",
    "store_name = driver.find_element(By.CSS_SELECTOR, \"div.O8qbU.tQY7D > div > a > span.LDgIH\").text\n",
    "store_name"
   ]
  },
  {
   "cell_type": "code",
   "execution_count": 88,
   "id": "13443bc1-f71a-4929-a141-6714de75ecf9",
   "metadata": {},
   "outputs": [
    {
     "data": {
      "text/plain": [
       "'02-521-6366'"
      ]
     },
     "execution_count": 88,
     "metadata": {},
     "output_type": "execute_result"
    }
   ],
   "source": [
    "# 전화번호 가져오기\n",
    "store_phone = driver.find_element(By.CSS_SELECTOR, \"div.O8qbU.nbXkr > div > span.xlx7Q\").text\n",
    "store_phone"
   ]
  },
  {
   "cell_type": "code",
   "execution_count": 90,
   "id": "545be531-3b96-45d2-b4fc-e224f93ae262",
   "metadata": {},
   "outputs": [],
   "source": [
    "driver.switch_to.default_content()"
   ]
  },
  {
   "cell_type": "code",
   "execution_count": 92,
   "id": "b871bb92-47bb-4c95-8d9c-e4ab10613447",
   "metadata": {},
   "outputs": [],
   "source": [
    "driver.switch_to.frame(\"searchIframe\")"
   ]
  },
  {
   "cell_type": "code",
   "execution_count": 94,
   "id": "b5d694dc-5d4e-4a02-825b-f39dc1e24938",
   "metadata": {},
   "outputs": [],
   "source": [
    "# 리다이렉트 되면 새로워지니 다시 가져오는 걸 추천함\n",
    "# 새롭게 접근하는 페이지마다 요소 로드하기\n",
    "food_stores = driver.find_elements(By.CSS_SELECTOR, \"span.TYaxT\")\n",
    "food_stores[1].click()"
   ]
  },
  {
   "cell_type": "code",
   "execution_count": 96,
   "id": "1c93c41d-f950-42d7-a505-174f4941cafd",
   "metadata": {},
   "outputs": [],
   "source": [
    "driver.quit()"
   ]
  },
  {
   "cell_type": "markdown",
   "id": "9cef7772-92c4-46db-9357-360700a032b5",
   "metadata": {},
   "source": [
    "### 실습!! 가게 정보 수집하기!!\n",
    "- 1page 내에서 가게명, 가게 주소, 전화번호 수집!"
   ]
  },
  {
   "cell_type": "code",
   "execution_count": null,
   "id": "0294cbf9-2265-4cc3-acfe-37a7d47bf5e5",
   "metadata": {},
   "outputs": [],
   "source": [
    "# 넣을거면 넣어라\n",
    "# 1. 브라우저 열기\n",
    "# 2. 요청\n",
    "# 3. 검색\n",
    "# 4. 창전환\n",
    "# 5. 클릭할 요소들 가져오기\n",
    "# 6. 창전환\n",
    "# 7. 해당 요소 클릭 후 정보 수집\n",
    "# 8. 다시 홈으로 이동\n",
    "# 9. 4~8까지 반복 하면서 수집\n",
    "# 10. 저장!"
   ]
  },
  {
   "cell_type": "code",
   "execution_count": 142,
   "id": "c91aa213-92c7-4b8b-97cd-5779650a68dc",
   "metadata": {},
   "outputs": [],
   "source": [
    "driver.quit()"
   ]
  },
  {
   "cell_type": "code",
   "execution_count": 144,
   "id": "dcdc3d2e-4427-49cf-957a-8090f3d1b804",
   "metadata": {},
   "outputs": [
    {
     "name": "stdin",
     "output_type": "stream",
     "text": [
      "검색할 단어를 입력 >>  이수역 맛집\n"
     ]
    },
    {
     "name": "stdout",
     "output_type": "stream",
     "text": [
      "['홍주고깃간', '이수가 본점', '애플하우스', '이수곱창', '외양간', '목구멍 이수점', '사이집 사당본점', '스시로로', '규스홈 레스토랑', '코시 이수점']\n",
      "['서울 관악구 남현1길 59 2층 3층', '서울 동작구 동작대로29가길 30 1층', '서울 동작구 동작대로27다길 29 2층', '서울 동작구 동작대로27가길 6-4 1층 이수곱창', '서울 동작구 동작대로11길 16 1층', '서울 동작구 동작대로27길 16-4', '서울 동작구 동작대로9길 10 1층', '서울 동작구 동작대로23길 29 1층', '서울 서초구 방배천로 62 1층 규스홈 레스토랑', '서울 동작구 사당로 300 1층 126호, 127호']\n",
      "['02-581-5454', '0507-1348-1372', '02-595-1629', '010-4554-9469', '0507-1484-8223', '0507-1417-1959', '0507-1417-0287', '02-585-1015', '02-598-5584', '0507-1349-3723']\n"
     ]
    }
   ],
   "source": [
    "# 1. 브라우저 열기\n",
    "driver = wb.Chrome()\n",
    "url = \"https://map.naver.com/p?c=15.00,0,0,0,dh\" # 네이버 지도\n",
    "driver.get(url)\n",
    "time.sleep(3)\n",
    "\n",
    "# 2. 요청\n",
    "query = input(\"검색할 단어를 입력 >> \")\n",
    "\n",
    "# 3. 검색\n",
    "search_input = driver.find_element(By.CSS_SELECTOR, \".input_search\")\n",
    "search_input.send_keys(query + \"\\n\")\n",
    "time.sleep(5)\n",
    "\n",
    "# 4. 창전환\n",
    "driver.switch_to.frame(\"searchIframe\")\n",
    "time.sleep(1)\n",
    "\n",
    "# 스크롤 내리기\n",
    "# while True:\n",
    "#     old = driver.page_source\n",
    "    \n",
    "#     body = driver.find_element(By.CSS_SELECTOR , \"body.place_on_pcmap\")\n",
    "#     body.send_keys(Keys.END)\n",
    "    \n",
    "#     new = driver.page_source\n",
    "\n",
    "#     if old == new:\n",
    "#         break\n",
    "#     else:\n",
    "#         pass\n",
    "\n",
    "# 5. 클릭할 요소들 가져오기\n",
    "food_stores = driver.find_elements(By.CSS_SELECTOR, \"span.TYaxT\")\n",
    "\n",
    "name_list = [store.text for store in food_stores]\n",
    "driver.switch_to.default_content()\n",
    "time.sleep(5)\n",
    "\n",
    "address_list = []\n",
    "phone_list = []\n",
    "\n",
    "for i in range(len(name_list)):\n",
    "    driver.switch_to.frame(\"searchIframe\")\n",
    "    food_stores[i].click()\n",
    "    time.sleep(2)\n",
    "    \n",
    "    # 6. 창전환\n",
    "    driver.switch_to.default_content()\n",
    "\n",
    "    time.sleep(1)\n",
    "    \n",
    "    driver.switch_to.frame(\"entryIframe\")\n",
    "    \n",
    "    # 7. 해당 요소 클릭 후 정보 수집\n",
    "    address_list.append(driver.find_element(By.CSS_SELECTOR, \"div.O8qbU.tQY7D > div > a > span.LDgIH\").text)\n",
    "    phone_list.append(driver.find_element(By.CSS_SELECTOR, \"div.O8qbU.nbXkr > div > span.xlx7Q\").text)\n",
    "    \n",
    "    # 8. 다시 홈으로 이동\n",
    "    driver.switch_to.default_content()\n",
    "\n",
    "print(name_list)\n",
    "print(address_list)\n",
    "print(phone_list)\n",
    "\n",
    "driver.quit()"
   ]
  },
  {
   "cell_type": "code",
   "execution_count": 144,
   "id": "c7aecd07-0c33-4318-b8b5-140aef81b5ad",
   "metadata": {},
   "outputs": [
    {
     "name": "stdin",
     "output_type": "stream",
     "text": [
      "검색할 단어를 입력 >>  이수역 맛집\n"
     ]
    },
    {
     "name": "stdout",
     "output_type": "stream",
     "text": [
      "['홍주고깃간', '이수가 본점', '애플하우스', '이수곱창', '외양간', '목구멍 이수점', '사이집 사당본점', '스시로로', '규스홈 레스토랑', '코시 이수점']\n",
      "['서울 관악구 남현1길 59 2층 3층', '서울 동작구 동작대로29가길 30 1층', '서울 동작구 동작대로27다길 29 2층', '서울 동작구 동작대로27가길 6-4 1층 이수곱창', '서울 동작구 동작대로11길 16 1층', '서울 동작구 동작대로27길 16-4', '서울 동작구 동작대로9길 10 1층', '서울 동작구 동작대로23길 29 1층', '서울 서초구 방배천로 62 1층 규스홈 레스토랑', '서울 동작구 사당로 300 1층 126호, 127호']\n",
      "['02-581-5454', '0507-1348-1372', '02-595-1629', '010-4554-9469', '0507-1484-8223', '0507-1417-1959', '0507-1417-0287', '02-585-1015', '02-598-5584', '0507-1349-3723']\n"
     ]
    }
   ],
   "source": [
    "# 1. 브라우저 열기\n",
    "driver = wb.Chrome()\n",
    "url = \"https://map.naver.com/p?c=15.00,0,0,0,dh\" # 네이버 지도\n",
    "driver.get(url)\n",
    "time.sleep(3)\n",
    "\n",
    "# 2. 요청\n",
    "query = input(\"검색할 단어를 입력 >> \")\n",
    "\n",
    "# 3. 검색\n",
    "search_input = driver.find_element(By.CSS_SELECTOR, \".input_search\")\n",
    "search_input.send_keys(query + \"\\n\")\n",
    "time.sleep(5)\n",
    "\n",
    "address_list = []\n",
    "phone_list = []\n",
    "name_list = []\n",
    "\n",
    "driver.maximize_window() #최대화\n",
    "\n",
    "i = 0\n",
    "while True:\n",
    "    # 4. 창전환\n",
    "    driver.switch_to.frame(\"searchIframe\")\n",
    "    time.sleep(1)\n",
    "    \n",
    "    # 스크롤 내리기\n",
    "    # while True:\n",
    "    #     old = driver.page_source\n",
    "        \n",
    "    #     body = driver.find_element(By.CSS_SELECTOR , \"body.place_on_pcmap\")\n",
    "    #     body.send_keys(Keys.END)\n",
    "        \n",
    "    #     new = driver.page_source\n",
    "    \n",
    "    #     if old == new:\n",
    "    #         break\n",
    "    #     else:\n",
    "    #         pass\n",
    "    \n",
    "    # 5. 클릭할 요소들 가져오기\n",
    "    food_stores = driver.find_elements(By.CSS_SELECTOR, \"span.TYaxT\")\n",
    "    food_stores[i].click()\n",
    "    time.sleep(2)\n",
    "    \n",
    "    # 6. 창전환\n",
    "    driver.switch_to.default_content()\n",
    "    time.sleep(1)\n",
    "    \n",
    "    driver.switch_to.frame(\"entryIframe\")\n",
    "    time.sleep(1)\n",
    "    \n",
    "    # 7. 해당 요소 클릭 후 정보 수집\n",
    "    try:\n",
    "        name_list.append(driver.find_elements(By.CSS_SELECTOR, \"span.TYaxT\").text)\n",
    "    except:\n",
    "        name_list.append(\"없음\")\n",
    "        \n",
    "    try:\n",
    "        address_list.append(driver.find_element(By.CSS_SELECTOR, \"div.O8qbU.tQY7D > div > a > span.LDgIH\").text)\n",
    "    except:\n",
    "        addres_list.append(\"없음\")\n",
    "        \n",
    "    try:\n",
    "        phone_list.append(driver.find_element(By.CSS_SELECTOR, \"div.O8qbU.nbXkr > div > span.xlx7Q\").text)\n",
    "    except:\n",
    "        addres_list.append(\"없음\")\n",
    "    \n",
    "    # 8. 다시 홈으로 이동\n",
    "    driver.switch_to.default_content()\n",
    "    time.sleep(1)\n",
    "\n",
    "    i += 1\n",
    "    if i == len(food_stores):\n",
    "        break\n",
    "\n",
    "print(name_list)\n",
    "print(address_list)\n",
    "print(phone_list)\n",
    "\n",
    "driver.quit()"
   ]
  }
 ],
 "metadata": {
  "kernelspec": {
   "display_name": "Python 3 (ipykernel)",
   "language": "python",
   "name": "python3"
  },
  "language_info": {
   "codemirror_mode": {
    "name": "ipython",
    "version": 3
   },
   "file_extension": ".py",
   "mimetype": "text/x-python",
   "name": "python",
   "nbconvert_exporter": "python",
   "pygments_lexer": "ipython3",
   "version": "3.12.4"
  }
 },
 "nbformat": 4,
 "nbformat_minor": 5
}
