{
 "cells": [
  {
   "cell_type": "markdown",
   "id": "c593db43-51c3-42de-b7d4-27ca1a533aad",
   "metadata": {},
   "source": [
    "### 딕셔너리\n",
    "- 불변한 key, 변화가능한 value로 맵핑되어 있는 순서가 없는 집합\n",
    "  "
   ]
  },
  {
   "cell_type": "code",
   "execution_count": 1,
   "id": "6ddc8d83-68b5-47d8-9c31-8cc935034c5c",
   "metadata": {},
   "outputs": [
    {
     "name": "stdout",
     "output_type": "stream",
     "text": [
      "{'name': '민희진', 'age': 26, 'phone': '010-7121-2354'}\n",
      "<class 'dict'>\n"
     ]
    }
   ],
   "source": [
    "dict1 = {'name':'민희진', 'age':26, 'phone' : '010-7121-2354'}\n",
    "\n",
    "print(dict1)\n",
    "\n",
    "print(type(dict1))"
   ]
  },
  {
   "cell_type": "code",
   "execution_count": 3,
   "id": "1256411e-e284-4d25-b7a2-36bd117a8702",
   "metadata": {},
   "outputs": [
    {
     "name": "stdout",
     "output_type": "stream",
     "text": [
      "민희진\n",
      "26\n",
      "010-7121-2354\n",
      "\n",
      "민희진\n"
     ]
    }
   ],
   "source": [
    "# 딕셔너리의 값 가져오기\n",
    "\n",
    "# 딕셔너리는 순서가 없기 때문에 인덱스 번호가 없다.\n",
    "# 대신, key값을 통해서 데이터를 가져옴\n",
    "\n",
    "print(dict1['name'])\n",
    "print(dict1['age'])\n",
    "print(dict1['phone'])\n",
    "\n",
    "print()\n",
    "\n",
    "print(dict1.get('name')) #딕셔너리의 메소드, get함수를 사용해서도 가능"
   ]
  },
  {
   "cell_type": "code",
   "execution_count": 7,
   "id": "0d5efb3b-1910-47c2-8af6-1f0b87dbd59b",
   "metadata": {},
   "outputs": [
    {
     "data": {
      "text/plain": [
       "{'name': '민희진', 'age': 21, 'phone': '010-7121-2354'}"
      ]
     },
     "execution_count": 7,
     "metadata": {},
     "output_type": "execute_result"
    }
   ],
   "source": [
    "# 딕셔너리의 값 변경\n",
    "# 키값으로 값을 불러와서 대입\n",
    "dict1['age'] = 21\n",
    "\n",
    "dict1"
   ]
  },
  {
   "cell_type": "code",
   "execution_count": 9,
   "id": "d9ef77b2-f3cd-40c6-88dd-afb194c818ba",
   "metadata": {},
   "outputs": [
    {
     "data": {
      "text/plain": [
       "{'name': '민희진', 'age': 21, 'phone': '010-7121-2354', 'birth': '06/17'}"
      ]
     },
     "execution_count": 9,
     "metadata": {},
     "output_type": "execute_result"
    }
   ],
   "source": [
    "# 딕셔너리의 값 추가\n",
    "# 기존에 없는 키값에 대입\n",
    "dict1['birth'] = '06/17'\n",
    "\n",
    "dict1"
   ]
  },
  {
   "cell_type": "code",
   "execution_count": 11,
   "id": "40e6a30b-5816-43c3-a720-b38d3ba4f812",
   "metadata": {},
   "outputs": [
    {
     "data": {
      "text/plain": [
       "{'name': '민희진', 'phone': '010-7121-2354', 'birth': '06/17'}"
      ]
     },
     "execution_count": 11,
     "metadata": {},
     "output_type": "execute_result"
    }
   ],
   "source": [
    "# 딕셔너리의 값 삭제\n",
    "# del 키워드 사용\n",
    "\n",
    "del dict1['age']\n",
    "\n",
    "dict1"
   ]
  },
  {
   "cell_type": "code",
   "execution_count": 13,
   "id": "a353a265-fa71-4dab-9f48-0ccb00edf684",
   "metadata": {},
   "outputs": [],
   "source": [
    "# 딕셔너리 비우기\n",
    "# clear()\n",
    "\n",
    "dict1.clear()\n",
    "\n",
    "dict1"
   ]
  },
  {
   "cell_type": "code",
   "execution_count": 19,
   "id": "568b2e47-991f-46c4-98f9-16b227c76b30",
   "metadata": {},
   "outputs": [
    {
     "data": {
      "text/plain": [
       "{'name': '민희진', 'age': 26, 'phone': '010-7121-2354'}"
      ]
     },
     "execution_count": 19,
     "metadata": {},
     "output_type": "execute_result"
    }
   ],
   "source": [
    "dict1 = {'name':'민희진', 'age':26, 'phone' : '010-7121-2354'}\n",
    "\n",
    "dict1"
   ]
  },
  {
   "cell_type": "code",
   "execution_count": 21,
   "id": "f6437dd3-7ca9-46a6-812e-2c7ea29c7f18",
   "metadata": {},
   "outputs": [
    {
     "data": {
      "text/plain": [
       "dict_keys(['name', 'age', 'phone'])"
      ]
     },
     "execution_count": 21,
     "metadata": {},
     "output_type": "execute_result"
    }
   ],
   "source": [
    "# 딕셔너리의 key값만 가져오기\n",
    "dict1.keys()"
   ]
  },
  {
   "cell_type": "code",
   "execution_count": 23,
   "id": "9ae0a167-fcc8-4f7d-9023-a2adc5fdf086",
   "metadata": {},
   "outputs": [
    {
     "data": {
      "text/plain": [
       "dict_values(['민희진', 26, '010-7121-2354'])"
      ]
     },
     "execution_count": 23,
     "metadata": {},
     "output_type": "execute_result"
    }
   ],
   "source": [
    "# 딕셔너리의 value값만 가져오기\n",
    "dict1.values()"
   ]
  },
  {
   "cell_type": "code",
   "execution_count": 25,
   "id": "3ae49a2e-4fcf-421d-b84b-92af5f23677c",
   "metadata": {},
   "outputs": [
    {
     "data": {
      "text/plain": [
       "{'팀원1': '민희진'}"
      ]
     },
     "execution_count": 25,
     "metadata": {},
     "output_type": "execute_result"
    }
   ],
   "source": [
    "mini = {'팀원1' : '민희진'}\n",
    "\n",
    "mini"
   ]
  },
  {
   "cell_type": "code",
   "execution_count": 27,
   "id": "c5011ce6-c3ea-4134-9fa2-ebe986b66113",
   "metadata": {},
   "outputs": [
    {
     "data": {
      "text/plain": [
       "{'팀원1': '민희진', '팀원2': '노정환', '팀원3': '이윤지', '팀원4': '김승겸'}"
      ]
     },
     "execution_count": 27,
     "metadata": {},
     "output_type": "execute_result"
    }
   ],
   "source": [
    "mini['팀원2'] = '노정환'\n",
    "mini['팀원3'] = '이윤지'\n",
    "mini['팀원4'] = '김승겸'\n",
    "\n",
    "mini"
   ]
  },
  {
   "cell_type": "code",
   "execution_count": 29,
   "id": "6b2fbb04-1bec-43cd-8a12-0f4b3d9b209c",
   "metadata": {},
   "outputs": [
    {
     "name": "stdout",
     "output_type": "stream",
     "text": [
      "민희진\n",
      "노정환\n",
      "이윤지\n",
      "김승겸\n"
     ]
    }
   ],
   "source": [
    "for i in mini.values():\n",
    "    print(i)"
   ]
  },
  {
   "cell_type": "code",
   "execution_count": 31,
   "id": "d976aa38-c358-486e-8bd2-bf9bc12e5224",
   "metadata": {},
   "outputs": [
    {
     "name": "stdout",
     "output_type": "stream",
     "text": [
      "팀원1\n",
      "팀원2\n",
      "팀원3\n",
      "팀원4\n"
     ]
    }
   ],
   "source": [
    "for i in mini:\n",
    "    print(i)"
   ]
  },
  {
   "cell_type": "code",
   "execution_count": 33,
   "id": "a35f44e6-5758-4dc5-8563-3ec00d94adde",
   "metadata": {},
   "outputs": [
    {
     "name": "stdout",
     "output_type": "stream",
     "text": [
      "팀원1\n",
      "팀원2\n",
      "팀원3\n",
      "팀원4\n"
     ]
    }
   ],
   "source": [
    "for i in mini.keys():\n",
    "    print(i)"
   ]
  },
  {
   "cell_type": "code",
   "execution_count": 35,
   "id": "843ddf82-1a47-4f9a-a35e-11fd4adf3b7b",
   "metadata": {},
   "outputs": [
    {
     "data": {
      "text/plain": [
       "{'팀원1': '민희진', '팀원2': '노정환', '팀원3': '이윤지', '팀원4': '김승겸'}"
      ]
     },
     "execution_count": 35,
     "metadata": {},
     "output_type": "execute_result"
    }
   ],
   "source": [
    "mini"
   ]
  }
 ],
 "metadata": {
  "kernelspec": {
   "display_name": "Python 3 (ipykernel)",
   "language": "python",
   "name": "python3"
  },
  "language_info": {
   "codemirror_mode": {
    "name": "ipython",
    "version": 3
   },
   "file_extension": ".py",
   "mimetype": "text/x-python",
   "name": "python",
   "nbconvert_exporter": "python",
   "pygments_lexer": "ipython3",
   "version": "3.12.4"
  }
 },
 "nbformat": 4,
 "nbformat_minor": 5
}
