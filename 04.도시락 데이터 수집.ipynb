{
 "cells": [
  {
   "cell_type": "markdown",
   "id": "5a9312e8-534c-44df-957c-84ea75421362",
   "metadata": {},
   "source": [
    "### 실습! 한솥도시락 메뉴 데이터 수집하기!\n",
    "- 링크 : https://www.hsd.co.kr/menu/menu_list"
   ]
  },
  {
   "cell_type": "code",
   "execution_count": 114,
   "id": "df88a3f8-9942-42c4-b7ef-d836b95e5c41",
   "metadata": {},
   "outputs": [],
   "source": [
    "from selenium import webdriver as wb # 테스트 브라우저 관리하는 도구 \n",
    "from selenium.webdriver.common.by import By # 경로 지정 방식 제공하는 도구\n",
    "from selenium.webdriver.common.keys import Keys # 키보드 입력을 제공하는 도구\n",
    "import time # 시간 지연 도구\n",
    "\n",
    "import request as req\n",
    "from bs4 import BeautifulSoup as bs\n",
    "\n",
    "import numpy as np\n",
    "import pandas as pd"
   ]
  },
  {
   "cell_type": "code",
   "execution_count": 116,
   "id": "3dc71f43-d2bc-4f8e-a1ee-c19d2b46271f",
   "metadata": {},
   "outputs": [],
   "source": [
    "# 1. 테스트 브라우저\n",
    "driver = wb.Chrome()"
   ]
  },
  {
   "cell_type": "code",
   "execution_count": 118,
   "id": "8e666f53-8159-4456-9af9-1187383882e0",
   "metadata": {},
   "outputs": [],
   "source": [
    "# 2. 요청\n",
    "url = \"https://www.hsd.co.kr/menu/menu_list\"\n",
    "driver.get(url)"
   ]
  },
  {
   "cell_type": "code",
   "execution_count": 132,
   "id": "3b9549ea-3d86-449e-8c51-ab45c8819576",
   "metadata": {},
   "outputs": [],
   "source": [
    "# 3. 더보기 버튼 클릭하기 - 한번만 클릭하기\n",
    "while True:\n",
    "    try:\n",
    "        btn = driver.find_element(By.CSS_SELECTOR, \"#btn_more > span > a\")\n",
    "        btn.click()\n",
    "        time.sleep(2) # 2초 정도 기다려!\n",
    "    except:\n",
    "        print(\"더보기 완료!\")\n",
    "        break\n",
    "# 우클릭 -> copy -> 복사 : 고유 경로 반환!\n",
    "# ⚠️단, id 값이 class처럼 사용되는 경우도 있음!!"
   ]
  },
  {
   "cell_type": "code",
   "execution_count": null,
   "id": "34df2f54-3c23-4f44-a8e1-c4391f34465a",
   "metadata": {},
   "outputs": [],
   "source": [
    "# 4 수집 - 메뉴명, 가격 -> req, bs\n",
    "\n",
    "soup = bs(driver.page_source, \"lxml\")"
   ]
  },
  {
   "cell_type": "code",
   "execution_count": null,
   "id": "c1c4665d-44c1-4384-91ae-f33d5239992b",
   "metadata": {},
   "outputs": [],
   "source": [
    "soup.select(\"div > div.item-text > h4\")"
   ]
  },
  {
   "cell_type": "code",
   "execution_count": 122,
   "id": "928bbc79-a779-4e1e-a83f-02c1c99e1c21",
   "metadata": {},
   "outputs": [],
   "source": [
    "# 4. 수집 - 메뉴명, 가격 -> content 추출 : .text\n",
    "menu = driver.find_elements(By.CSS_SELECTOR, \"div > div.item-text > h4\")\n",
    "price = driver.find_elements(By.CSS_SELECTOR, \"div > div.item-text > div > strong\")"
   ]
  },
  {
   "cell_type": "code",
   "execution_count": 124,
   "id": "6e4c1712-5462-4bfb-84a2-9f59808bea18",
   "metadata": {},
   "outputs": [],
   "source": [
    "menu_list = []\n",
    "price_list = []\n",
    "\n",
    "for i in range(len(menu)):\n",
    "    menu_list.append(menu[i].text)\n",
    "    price_list.append(price[i].text)"
   ]
  },
  {
   "cell_type": "code",
   "execution_count": 126,
   "id": "6d3db018-e166-4567-9b32-d029b237289b",
   "metadata": {},
   "outputs": [
    {
     "data": {
      "text/plain": [
       "(100, 100)"
      ]
     },
     "execution_count": 126,
     "metadata": {},
     "output_type": "execute_result"
    }
   ],
   "source": [
    "len(menu_list), len(price_list)"
   ]
  },
  {
   "cell_type": "code",
   "execution_count": 128,
   "id": "d19af83f-47b8-46ea-9c51-131fb620594c",
   "metadata": {},
   "outputs": [],
   "source": [
    "food_dict = {\n",
    "    \"메뉴\":menu_list,\n",
    "    \"가격\":price_list\n",
    "}\n",
    "df = pd.DataFrame(food_dict)"
   ]
  },
  {
   "cell_type": "code",
   "execution_count": 130,
   "id": "970ff2b0-7c78-46d7-a126-eb2147eaf306",
   "metadata": {},
   "outputs": [],
   "source": [
    "# 5. 저장(csv)\n",
    "df.to_csv(\"한솥 메뉴 데이터.csv\", encoding=\"utf-8\")"
   ]
  },
  {
   "cell_type": "code",
   "execution_count": null,
   "id": "704304fb-a9c3-466a-8197-58c2e52409d3",
   "metadata": {},
   "outputs": [],
   "source": [
    "driver.quit()"
   ]
  },
  {
   "cell_type": "markdown",
   "id": "e5b34db7-b0fd-495a-8ce4-cb89c668700c",
   "metadata": {},
   "source": []
  },
  {
   "cell_type": "code",
   "execution_count": 71,
   "id": "799c7e1d-9b65-4cf0-8b80-327e3e1f9865",
   "metadata": {},
   "outputs": [],
   "source": [
    "driver = wb.Chrome()"
   ]
  },
  {
   "cell_type": "code",
   "execution_count": 73,
   "id": "ad50c953-0dfa-4b00-8ad4-af3b59283940",
   "metadata": {},
   "outputs": [],
   "source": [
    "driver.get(\"https://www.hsd.co.kr/menu/menu_list\")"
   ]
  },
  {
   "cell_type": "code",
   "execution_count": 74,
   "id": "3b03fbc4-f533-49ef-a05c-b8f546c4e4a3",
   "metadata": {},
   "outputs": [],
   "source": [
    "btn = driver.find_element(By.CLASS_NAME, \"c_05\")"
   ]
  },
  {
   "cell_type": "code",
   "execution_count": 77,
   "id": "94840572-7b70-41f8-b6c8-b3a90a025fc1",
   "metadata": {},
   "outputs": [
    {
     "ename": "ElementNotInteractableException",
     "evalue": "Message: element not interactable\n  (Session info: chrome=130.0.6723.92)\nStacktrace:\n\tGetHandleVerifier [0x00007FF7EA2F3B05+28005]\n\t(No symbol) [0x00007FF7EA258400]\n\t(No symbol) [0x00007FF7EA0F5639]\n\t(No symbol) [0x00007FF7EA146EDF]\n\t(No symbol) [0x00007FF7EA13990E]\n\t(No symbol) [0x00007FF7EA16BA3A]\n\t(No symbol) [0x00007FF7EA139246]\n\t(No symbol) [0x00007FF7EA16BC50]\n\t(No symbol) [0x00007FF7EA18B8B3]\n\t(No symbol) [0x00007FF7EA16B7E3]\n\t(No symbol) [0x00007FF7EA1375C8]\n\t(No symbol) [0x00007FF7EA138731]\n\tGetHandleVerifier [0x00007FF7EA5E647D+3118813]\n\tGetHandleVerifier [0x00007FF7EA636CD0+3448624]\n\tGetHandleVerifier [0x00007FF7EA62CF4D+3408301]\n\tGetHandleVerifier [0x00007FF7EA3BA45B+841403]\n\t(No symbol) [0x00007FF7EA26345F]\n\t(No symbol) [0x00007FF7EA25F4D4]\n\t(No symbol) [0x00007FF7EA25F66D]\n\t(No symbol) [0x00007FF7EA24EBC9]\n\tBaseThreadInitThunk [0x00007FFEF9D0257D+29]\n\tRtlUserThreadStart [0x00007FFEFA3CAF08+40]\n",
     "output_type": "error",
     "traceback": [
      "\u001b[1;31m---------------------------------------------------------------------------\u001b[0m",
      "\u001b[1;31mElementNotInteractableException\u001b[0m           Traceback (most recent call last)",
      "Cell \u001b[1;32mIn[77], line 2\u001b[0m\n\u001b[0;32m      1\u001b[0m \u001b[38;5;28;01mwhile\u001b[39;00m \u001b[38;5;28;01mTrue\u001b[39;00m:\n\u001b[1;32m----> 2\u001b[0m     btn\u001b[38;5;241m.\u001b[39mclick()\n",
      "File \u001b[1;32m~\\anaconda3\\Lib\\site-packages\\selenium\\webdriver\\remote\\webelement.py:94\u001b[0m, in \u001b[0;36mWebElement.click\u001b[1;34m(self)\u001b[0m\n\u001b[0;32m     92\u001b[0m \u001b[38;5;28;01mdef\u001b[39;00m \u001b[38;5;21mclick\u001b[39m(\u001b[38;5;28mself\u001b[39m) \u001b[38;5;241m-\u001b[39m\u001b[38;5;241m>\u001b[39m \u001b[38;5;28;01mNone\u001b[39;00m:\n\u001b[0;32m     93\u001b[0m \u001b[38;5;250m    \u001b[39m\u001b[38;5;124;03m\"\"\"Clicks the element.\"\"\"\u001b[39;00m\n\u001b[1;32m---> 94\u001b[0m     \u001b[38;5;28mself\u001b[39m\u001b[38;5;241m.\u001b[39m_execute(Command\u001b[38;5;241m.\u001b[39mCLICK_ELEMENT)\n",
      "File \u001b[1;32m~\\anaconda3\\Lib\\site-packages\\selenium\\webdriver\\remote\\webelement.py:395\u001b[0m, in \u001b[0;36mWebElement._execute\u001b[1;34m(self, command, params)\u001b[0m\n\u001b[0;32m    393\u001b[0m     params \u001b[38;5;241m=\u001b[39m {}\n\u001b[0;32m    394\u001b[0m params[\u001b[38;5;124m\"\u001b[39m\u001b[38;5;124mid\u001b[39m\u001b[38;5;124m\"\u001b[39m] \u001b[38;5;241m=\u001b[39m \u001b[38;5;28mself\u001b[39m\u001b[38;5;241m.\u001b[39m_id\n\u001b[1;32m--> 395\u001b[0m \u001b[38;5;28;01mreturn\u001b[39;00m \u001b[38;5;28mself\u001b[39m\u001b[38;5;241m.\u001b[39m_parent\u001b[38;5;241m.\u001b[39mexecute(command, params)\n",
      "File \u001b[1;32m~\\anaconda3\\Lib\\site-packages\\selenium\\webdriver\\remote\\webdriver.py:380\u001b[0m, in \u001b[0;36mWebDriver.execute\u001b[1;34m(self, driver_command, params)\u001b[0m\n\u001b[0;32m    378\u001b[0m response \u001b[38;5;241m=\u001b[39m \u001b[38;5;28mself\u001b[39m\u001b[38;5;241m.\u001b[39mcommand_executor\u001b[38;5;241m.\u001b[39mexecute(driver_command, params)\n\u001b[0;32m    379\u001b[0m \u001b[38;5;28;01mif\u001b[39;00m response:\n\u001b[1;32m--> 380\u001b[0m     \u001b[38;5;28mself\u001b[39m\u001b[38;5;241m.\u001b[39merror_handler\u001b[38;5;241m.\u001b[39mcheck_response(response)\n\u001b[0;32m    381\u001b[0m     response[\u001b[38;5;124m\"\u001b[39m\u001b[38;5;124mvalue\u001b[39m\u001b[38;5;124m\"\u001b[39m] \u001b[38;5;241m=\u001b[39m \u001b[38;5;28mself\u001b[39m\u001b[38;5;241m.\u001b[39m_unwrap_value(response\u001b[38;5;241m.\u001b[39mget(\u001b[38;5;124m\"\u001b[39m\u001b[38;5;124mvalue\u001b[39m\u001b[38;5;124m\"\u001b[39m, \u001b[38;5;28;01mNone\u001b[39;00m))\n\u001b[0;32m    382\u001b[0m     \u001b[38;5;28;01mreturn\u001b[39;00m response\n",
      "File \u001b[1;32m~\\anaconda3\\Lib\\site-packages\\selenium\\webdriver\\remote\\errorhandler.py:229\u001b[0m, in \u001b[0;36mErrorHandler.check_response\u001b[1;34m(self, response)\u001b[0m\n\u001b[0;32m    227\u001b[0m         alert_text \u001b[38;5;241m=\u001b[39m value[\u001b[38;5;124m\"\u001b[39m\u001b[38;5;124malert\u001b[39m\u001b[38;5;124m\"\u001b[39m]\u001b[38;5;241m.\u001b[39mget(\u001b[38;5;124m\"\u001b[39m\u001b[38;5;124mtext\u001b[39m\u001b[38;5;124m\"\u001b[39m)\n\u001b[0;32m    228\u001b[0m     \u001b[38;5;28;01mraise\u001b[39;00m exception_class(message, screen, stacktrace, alert_text)  \u001b[38;5;66;03m# type: ignore[call-arg]  # mypy is not smart enough here\u001b[39;00m\n\u001b[1;32m--> 229\u001b[0m \u001b[38;5;28;01mraise\u001b[39;00m exception_class(message, screen, stacktrace)\n",
      "\u001b[1;31mElementNotInteractableException\u001b[0m: Message: element not interactable\n  (Session info: chrome=130.0.6723.92)\nStacktrace:\n\tGetHandleVerifier [0x00007FF7EA2F3B05+28005]\n\t(No symbol) [0x00007FF7EA258400]\n\t(No symbol) [0x00007FF7EA0F5639]\n\t(No symbol) [0x00007FF7EA146EDF]\n\t(No symbol) [0x00007FF7EA13990E]\n\t(No symbol) [0x00007FF7EA16BA3A]\n\t(No symbol) [0x00007FF7EA139246]\n\t(No symbol) [0x00007FF7EA16BC50]\n\t(No symbol) [0x00007FF7EA18B8B3]\n\t(No symbol) [0x00007FF7EA16B7E3]\n\t(No symbol) [0x00007FF7EA1375C8]\n\t(No symbol) [0x00007FF7EA138731]\n\tGetHandleVerifier [0x00007FF7EA5E647D+3118813]\n\tGetHandleVerifier [0x00007FF7EA636CD0+3448624]\n\tGetHandleVerifier [0x00007FF7EA62CF4D+3408301]\n\tGetHandleVerifier [0x00007FF7EA3BA45B+841403]\n\t(No symbol) [0x00007FF7EA26345F]\n\t(No symbol) [0x00007FF7EA25F4D4]\n\t(No symbol) [0x00007FF7EA25F66D]\n\t(No symbol) [0x00007FF7EA24EBC9]\n\tBaseThreadInitThunk [0x00007FFEF9D0257D+29]\n\tRtlUserThreadStart [0x00007FFEFA3CAF08+40]\n"
     ]
    }
   ],
   "source": [
    "btn.click()"
   ]
  },
  {
   "cell_type": "code",
   "execution_count": null,
   "id": "2a6c2acd-d727-494e-9b94-fc184c579df1",
   "metadata": {},
   "outputs": [],
   "source": [
    "menu = driver.find_elements(By.CSS_SELECTOR, \".h.fz_03\")\n",
    "price = driver.find_elements(By.CSS_SELECTOR, \".item-price > strong\")"
   ]
  },
  {
   "cell_type": "code",
   "execution_count": 55,
   "id": "e5e08757-9a62-4011-b800-8465ace3f9f9",
   "metadata": {},
   "outputs": [],
   "source": [
    "menus = []\n",
    "prices = []\n",
    "for i in range(len(menu)):\n",
    "    menus.append(menu[i].text)\n",
    "    prices.append(price[i].text)"
   ]
  },
  {
   "cell_type": "code",
   "execution_count": 57,
   "id": "032f8492-361c-40ab-ac3f-9d5a75925c36",
   "metadata": {},
   "outputs": [],
   "source": [
    "dict_foods = {\n",
    "    \"메뉴\" : menus,\n",
    "    \"가격\" : prices\n",
    "}\n",
    "\n",
    "foods_menu = pd.DataFrame(dict_foods)"
   ]
  },
  {
   "cell_type": "code",
   "execution_count": 59,
   "id": "58665c0f-6cd1-48c0-a835-8a00a1652687",
   "metadata": {},
   "outputs": [
    {
     "data": {
      "text/html": [
       "<div>\n",
       "<style scoped>\n",
       "    .dataframe tbody tr th:only-of-type {\n",
       "        vertical-align: middle;\n",
       "    }\n",
       "\n",
       "    .dataframe tbody tr th {\n",
       "        vertical-align: top;\n",
       "    }\n",
       "\n",
       "    .dataframe thead th {\n",
       "        text-align: right;\n",
       "    }\n",
       "</style>\n",
       "<table border=\"1\" class=\"dataframe\">\n",
       "  <thead>\n",
       "    <tr style=\"text-align: right;\">\n",
       "      <th></th>\n",
       "      <th>메뉴</th>\n",
       "      <th>가격</th>\n",
       "    </tr>\n",
       "  </thead>\n",
       "  <tbody>\n",
       "    <tr>\n",
       "      <th>0</th>\n",
       "      <td>오모가리 김치제육덮밥</td>\n",
       "      <td>4,900</td>\n",
       "    </tr>\n",
       "    <tr>\n",
       "      <th>1</th>\n",
       "      <td>빅 오모가리 김치제육덮밥</td>\n",
       "      <td>5,500</td>\n",
       "    </tr>\n",
       "    <tr>\n",
       "      <th>2</th>\n",
       "      <td>한우 함박스테이크&amp; 청양 토네이도 소세지</td>\n",
       "      <td>8,900</td>\n",
       "    </tr>\n",
       "    <tr>\n",
       "      <th>3</th>\n",
       "      <td>한우 함박스테이크&amp;토네이도 소세지</td>\n",
       "      <td>8,900</td>\n",
       "    </tr>\n",
       "    <tr>\n",
       "      <th>4</th>\n",
       "      <td>제주녹차 미니꿀호떡</td>\n",
       "      <td>2,500</td>\n",
       "    </tr>\n",
       "    <tr>\n",
       "      <th>5</th>\n",
       "      <td>사골 매생이 떡국</td>\n",
       "      <td>6,900</td>\n",
       "    </tr>\n",
       "    <tr>\n",
       "      <th>6</th>\n",
       "      <td>불닭 치킨마요</td>\n",
       "      <td>4,900</td>\n",
       "    </tr>\n",
       "    <tr>\n",
       "      <th>7</th>\n",
       "      <td>불닭 참치마요</td>\n",
       "      <td>4,700</td>\n",
       "    </tr>\n",
       "    <tr>\n",
       "      <th>8</th>\n",
       "      <td>치킹 반반순살(양념, 후라이드)</td>\n",
       "      <td>16,900</td>\n",
       "    </tr>\n",
       "    <tr>\n",
       "      <th>9</th>\n",
       "      <td>치킹 반반순살(후라이드)</td>\n",
       "      <td>16,900</td>\n",
       "    </tr>\n",
       "    <tr>\n",
       "      <th>10</th>\n",
       "      <td>연잎 오리구이</td>\n",
       "      <td>7,700</td>\n",
       "    </tr>\n",
       "    <tr>\n",
       "      <th>11</th>\n",
       "      <td>사골 조랭이떡 만둣국</td>\n",
       "      <td>5,900</td>\n",
       "    </tr>\n",
       "    <tr>\n",
       "      <th>12</th>\n",
       "      <td>해바라기</td>\n",
       "      <td>10,000</td>\n",
       "    </tr>\n",
       "    <tr>\n",
       "      <th>13</th>\n",
       "      <td>매화</td>\n",
       "      <td>10,500</td>\n",
       "    </tr>\n",
       "    <tr>\n",
       "      <th>14</th>\n",
       "      <td>진달래</td>\n",
       "      <td>8,000</td>\n",
       "    </tr>\n",
       "  </tbody>\n",
       "</table>\n",
       "</div>"
      ],
      "text/plain": [
       "                        메뉴      가격\n",
       "0              오모가리 김치제육덮밥   4,900\n",
       "1            빅 오모가리 김치제육덮밥   5,500\n",
       "2   한우 함박스테이크& 청양 토네이도 소세지   8,900\n",
       "3       한우 함박스테이크&토네이도 소세지   8,900\n",
       "4               제주녹차 미니꿀호떡   2,500\n",
       "5                사골 매생이 떡국   6,900\n",
       "6                  불닭 치킨마요   4,900\n",
       "7                  불닭 참치마요   4,700\n",
       "8        치킹 반반순살(양념, 후라이드)  16,900\n",
       "9            치킹 반반순살(후라이드)  16,900\n",
       "10                 연잎 오리구이   7,700\n",
       "11             사골 조랭이떡 만둣국   5,900\n",
       "12                    해바라기  10,000\n",
       "13                      매화  10,500\n",
       "14                     진달래   8,000"
      ]
     },
     "execution_count": 59,
     "metadata": {},
     "output_type": "execute_result"
    }
   ],
   "source": [
    "foods_menu"
   ]
  },
  {
   "cell_type": "code",
   "execution_count": 61,
   "id": "29814d6c-939d-4416-bdaa-2bddbeae1ef1",
   "metadata": {},
   "outputs": [],
   "source": [
    "foods_menu.to_csv(\"./foods_menu.csv\", encoding = \"utf-8\")"
   ]
  },
  {
   "cell_type": "code",
   "execution_count": 112,
   "id": "1a8c05d7-0995-4702-b9fa-dff689b46640",
   "metadata": {},
   "outputs": [],
   "source": [
    "driver.quit()"
   ]
  }
 ],
 "metadata": {
  "kernelspec": {
   "display_name": "Python 3 (ipykernel)",
   "language": "python",
   "name": "python3"
  },
  "language_info": {
   "codemirror_mode": {
    "name": "ipython",
    "version": 3
   },
   "file_extension": ".py",
   "mimetype": "text/x-python",
   "name": "python",
   "nbconvert_exporter": "python",
   "pygments_lexer": "ipython3",
   "version": "3.12.4"
  }
 },
 "nbformat": 4,
 "nbformat_minor": 5
}
