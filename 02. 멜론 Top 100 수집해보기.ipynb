{
 "cells": [
  {
   "cell_type": "code",
   "execution_count": 4,
   "id": "19e1a272-283e-43ec-9482-7a3df16301c5",
   "metadata": {},
   "outputs": [],
   "source": [
    "import requests as req # 요청하는 도구\n",
    "from bs4 import BeautifulSoup as bs # 파싱하는  도구"
   ]
  },
  {
   "cell_type": "markdown",
   "id": "9aa41d28-9c04-447a-8524-7c109a7718b4",
   "metadata": {},
   "source": [
    "### 멜론 음원차트 Top 100 데이터 수집\n",
    "- 노래 제목, 가수명 수집"
   ]
  },
  {
   "cell_type": "code",
   "execution_count": 6,
   "id": "5b4a5b29-dd7d-4705-a00e-f37c14aad98d",
   "metadata": {},
   "outputs": [
    {
     "data": {
      "text/plain": [
       "<Response [406]>"
      ]
     },
     "execution_count": 6,
     "metadata": {},
     "output_type": "execute_result"
    }
   ],
   "source": [
    "# 1. 요청\n",
    "url = \" https://www.melon.com/chart/index.htm\"\n",
    "\n",
    "req.get(url)\n",
    "# 멜론에서는 컴퓨터(req 라이브러리)로 접근하는 것을 허용치 않음..."
   ]
  },
  {
   "cell_type": "code",
   "execution_count": 8,
   "id": "f7bcc226-ec17-422b-9645-028f8f14be68",
   "metadata": {},
   "outputs": [],
   "source": [
    "# 정확하게는 일반 사용자(크롬 브라우저)가 요청했다는 정보를 서버에서 확인할 수 있도록 User-Agent를 가져옴\n",
    "user_agent = { \"User-Agent\" : \"Mozilla/5.0 (Windows NT 10.0; Win64; x64) AppleWebKit/537.36 (KHTML, like Gecko) Chrome/130.0.0.0 Safari/537.36\" }"
   ]
  },
  {
   "cell_type": "code",
   "execution_count": 14,
   "id": "030670b1-1489-4da4-92a7-aeeea3ad675a",
   "metadata": {},
   "outputs": [],
   "source": [
    "# 통신 성공!\n",
    "res = req.get(url, headers = user_agent)"
   ]
  },
  {
   "cell_type": "code",
   "execution_count": 18,
   "id": "201960be-0d7f-43fb-9eee-210fcb4fca11",
   "metadata": {},
   "outputs": [],
   "source": [
    "# 2. 파싱\n",
    "soup = bs(res.text, \"lxml\")"
   ]
  },
  {
   "cell_type": "markdown",
   "id": "36a63fc8-29cc-4542-bd34-ec7142e39e93",
   "metadata": {},
   "source": [
    "##### 3. 지정, 추출\n",
    "- 노래제목, 가수명"
   ]
  },
  {
   "cell_type": "markdown",
   "id": "d185cd6d-9ed6-4e6d-8e47-ca6e859d8b89",
   "metadata": {},
   "source": [
    "3-1. 노래제목 수집해보기"
   ]
  },
  {
   "cell_type": "code",
   "execution_count": 26,
   "id": "1a20b9a3-6031-484e-bf56-0c73580c6e3a",
   "metadata": {},
   "outputs": [
    {
     "data": {
      "text/plain": [
       "100"
      ]
     },
     "execution_count": 26,
     "metadata": {},
     "output_type": "execute_result"
    }
   ],
   "source": [
    "# \" \" : 자손 선택자 -> 주의!!\n",
    "titles = soup.select(\"div.ellipsis.rank01 > span > a\")\n",
    "len(titles)"
   ]
  },
  {
   "cell_type": "markdown",
   "id": "945e7cce-4052-44cb-9a8d-a076a9e10065",
   "metadata": {},
   "source": [
    "3-2. 가수명 수집해보기"
   ]
  },
  {
   "cell_type": "code",
   "execution_count": 29,
   "id": "2fc7d47e-ac2a-40e0-9fb8-3c2cd96cf919",
   "metadata": {},
   "outputs": [
    {
     "data": {
      "text/plain": [
       "107"
      ]
     },
     "execution_count": 29,
     "metadata": {},
     "output_type": "execute_result"
    }
   ],
   "source": [
    "singers = soup.select(\"div.ellipsis.rank02 > a\")\n",
    "len(singers) # Top 100 인데, 107이 나옴"
   ]
  },
  {
   "cell_type": "code",
   "execution_count": 33,
   "id": "2029cb09-0328-4b0d-a183-5ce2d866135e",
   "metadata": {},
   "outputs": [
    {
     "name": "stdout",
     "output_type": "stream",
     "text": [
      "로제 (ROSÉ)\n",
      "Bruno Mars\n",
      "aespa\n",
      "G-DRAGON\n",
      "aespa\n",
      "제니 (JENNIE)\n",
      "DAY6 (데이식스)\n",
      "QWER\n",
      "DAY6 (데이식스)\n",
      "aespa\n",
      "로이킴\n",
      "AKMU (악뮤)\n",
      "DAY6 (데이식스)\n",
      "프로미스나인\n",
      "이클립스 (ECLIPSE)\n",
      "임영웅\n",
      "PLAVE\n",
      "DAY6 (데이식스)\n",
      "DAY6 (데이식스)\n",
      "PLAVE\n",
      "QWER\n",
      "이창섭\n",
      "NewJeans\n",
      "임영웅\n",
      "PLAVE\n",
      "이영지\n",
      "PLAVE\n",
      "임영웅\n",
      "순순희(지환)\n",
      "임영웅\n",
      "임영웅\n",
      "(여자)아이들\n",
      "임영웅\n",
      "임영웅\n",
      "아이유\n",
      "PLAVE\n",
      "임영웅\n",
      "(여자)아이들\n",
      "임영웅\n",
      "임영웅\n",
      "PLAVE\n",
      "PLAVE\n",
      "세븐틴 (SEVENTEEN)\n",
      "임영웅\n",
      "TWS (투어스)\n",
      "KISS OF LIFE\n",
      "임영웅\n",
      "너드커넥션 (Nerd Connection)\n",
      "황가람\n",
      "성시경\n",
      "NewJeans\n",
      "잔나비\n",
      "아일릿(ILLIT)\n",
      "aespa\n",
      "WOODZ\n",
      "임영웅\n",
      "이무진\n",
      "이무진\n",
      "박재정\n",
      "정국\n",
      "PLAVE\n",
      "임재현\n",
      "폴킴\n",
      "임영웅\n",
      "경서예지\n",
      "전건호\n",
      "아일릿(ILLIT)\n",
      "DAY6 (데이식스)\n",
      "지코 (ZICO)\n",
      "Crush\n",
      "IVE (아이브)\n",
      "NewJeans\n",
      "범진\n",
      "방탄소년단\n",
      "NewJeans\n",
      "방탄소년단\n",
      "부석순 (SEVENTEEN)\n",
      "이무진\n",
      "멜로망스\n",
      "김민석\n",
      "IVE (아이브)\n",
      "NewJeans\n",
      "NMIXX\n",
      "RIIZE\n",
      "투모로우바이투게더\n",
      "태연 (TAEYEON)\n",
      "윤하 (YOUNHA)\n",
      "RIIZE\n",
      "aespa\n",
      "YENA (최예나)\n",
      "우디 (Woody)\n",
      "Charlie Puth\n",
      "NewJeans\n",
      "허각\n",
      "임한별\n",
      "이무진\n",
      "이진성 (먼데이 키즈)\n",
      "김희재\n",
      "#안녕\n",
      "황인욱\n",
      "RIIZE\n",
      "TWS (투어스)\n",
      "NewJeans\n",
      "MEOVV (미야오)\n",
      "성진 (DAY6)\n",
      "NewJeans\n",
      "투모로우바이투게더\n"
     ]
    }
   ],
   "source": [
    "for singer in singers:\n",
    "    print(singer.text)\n",
    "# 살펴보니, 가수명이 2개인 요소도 존재함!"
   ]
  },
  {
   "cell_type": "code",
   "execution_count": 37,
   "id": "22e0260f-d898-4f03-a019-79d54157f50e",
   "metadata": {},
   "outputs": [
    {
     "data": {
      "text/plain": [
       "100"
      ]
     },
     "execution_count": 37,
     "metadata": {},
     "output_type": "execute_result"
    }
   ],
   "source": [
    "# a태그는 각각의 가수명을 가진 요소\n",
    "# a태그의 상위 태그인 span를 접근해서, 노래 1곡당 가수명이 매칭되게끔 지정 가능!\n",
    "singers = soup.select(\"div.ellipsis.rank02 > span\")\n",
    "len(singers)"
   ]
  },
  {
   "cell_type": "code",
   "execution_count": 39,
   "id": "d6e6383f-4526-498e-a431-ff08745ed02e",
   "metadata": {},
   "outputs": [
    {
     "name": "stdout",
     "output_type": "stream",
     "text": [
      "로제 (ROSÉ), Bruno Mars\n",
      "aespa\n",
      "G-DRAGON\n",
      "aespa\n",
      "제니 (JENNIE)\n",
      "DAY6 (데이식스)\n",
      "QWER\n",
      "DAY6 (데이식스)\n",
      "aespa\n",
      "로이킴\n",
      "AKMU (악뮤)\n",
      "DAY6 (데이식스)\n",
      "프로미스나인\n",
      "이클립스 (ECLIPSE)\n",
      "임영웅\n",
      "PLAVE\n",
      "DAY6 (데이식스)\n",
      "DAY6 (데이식스)\n",
      "PLAVE\n",
      "QWER\n",
      "이창섭\n",
      "NewJeans\n",
      "임영웅\n",
      "PLAVE\n",
      "이영지\n",
      "PLAVE\n",
      "임영웅\n",
      "순순희(지환)\n",
      "임영웅\n",
      "임영웅\n",
      "(여자)아이들\n",
      "임영웅\n",
      "임영웅\n",
      "아이유\n",
      "PLAVE\n",
      "임영웅\n",
      "(여자)아이들\n",
      "임영웅\n",
      "임영웅\n",
      "PLAVE\n",
      "PLAVE\n",
      "세븐틴 (SEVENTEEN)\n",
      "임영웅\n",
      "TWS (투어스)\n",
      "KISS OF LIFE\n",
      "임영웅\n",
      "너드커넥션 (Nerd Connection)\n",
      "황가람\n",
      "성시경\n",
      "NewJeans\n",
      "잔나비\n",
      "아일릿(ILLIT)\n",
      "aespa\n",
      "WOODZ\n",
      "임영웅\n",
      "이무진\n",
      "이무진\n",
      "박재정\n",
      "정국\n",
      "PLAVE\n",
      "임재현\n",
      "폴킴\n",
      "임영웅\n",
      "경서예지, 전건호\n",
      "아일릿(ILLIT)\n",
      "DAY6 (데이식스)\n",
      "지코 (ZICO)\n",
      "Crush\n",
      "IVE (아이브)\n",
      "NewJeans\n",
      "범진\n",
      "방탄소년단\n",
      "NewJeans\n",
      "방탄소년단\n",
      "부석순 (SEVENTEEN)\n",
      "이무진\n",
      "멜로망스\n",
      "김민석\n",
      "IVE (아이브)\n",
      "NewJeans\n",
      "NMIXX\n",
      "RIIZE\n",
      "투모로우바이투게더\n",
      "태연 (TAEYEON)\n",
      "윤하 (YOUNHA)\n",
      "RIIZE\n",
      "aespa\n",
      "YENA (최예나)\n",
      "우디 (Woody)\n",
      "Charlie Puth\n",
      "NewJeans\n",
      "허각, 임한별, 이무진, 이진성 (먼데이 키즈), 김희재, #안녕\n",
      "황인욱\n",
      "RIIZE\n",
      "TWS (투어스)\n",
      "NewJeans\n",
      "MEOVV (미야오)\n",
      "성진 (DAY6)\n",
      "NewJeans\n",
      "투모로우바이투게더\n"
     ]
    }
   ],
   "source": [
    "for singer in singers:\n",
    "    print(singer.text)"
   ]
  },
  {
   "cell_type": "code",
   "execution_count": 43,
   "id": "97f271a2-5448-4810-b974-c41ae296bae4",
   "metadata": {},
   "outputs": [],
   "source": [
    "# content 추출\n",
    "\n",
    "title_list = []\n",
    "singer_list = []\n",
    "for i in range(len(singers)):\n",
    "    title_list.append(titles[i].text)\n",
    "    singer_list.append(singers[i].text)"
   ]
  },
  {
   "cell_type": "code",
   "execution_count": 47,
   "id": "819168d8-f9b6-41fc-b41c-c23672e20207",
   "metadata": {},
   "outputs": [
    {
     "data": {
      "text/plain": [
       "(['APT.', 'Whiplash', 'POWER', 'UP (KARINA Solo)', 'Mantra'],\n",
       " ['로제 (ROSÉ), Bruno Mars', 'aespa', 'G-DRAGON', 'aespa', '제니 (JENNIE)'])"
      ]
     },
     "execution_count": 47,
     "metadata": {},
     "output_type": "execute_result"
    }
   ],
   "source": [
    "title_list[:5], singer_list[:5]"
   ]
  },
  {
   "cell_type": "code",
   "execution_count": 51,
   "id": "d9c7c7a6-c183-4e32-9c3b-1ff5a8992c3a",
   "metadata": {},
   "outputs": [],
   "source": [
    "# 수집한 데이터를 저장하기 쉽게 DataFrame으로 형변환\n",
    "import pandas as pd\n",
    "\n",
    "dict_melon = {\n",
    "    \"노래제목\" : title_list,\n",
    "    \"가수명\" : singer_list\n",
    "}\n",
    "\n",
    "melon_top100 = pd.DataFrame(dict_melon)"
   ]
  },
  {
   "cell_type": "code",
   "execution_count": 55,
   "id": "e3b0771d-d131-4503-99c4-babddaa3f28e",
   "metadata": {},
   "outputs": [],
   "source": [
    "# 4. 저장\n",
    "melon_top100.to_csv(\"./melon_top_100.csv\", encoding = \"utf-8\")\n",
    "# UTF-8, euc-kr, cp949"
   ]
  }
 ],
 "metadata": {
  "kernelspec": {
   "display_name": "Python 3 (ipykernel)",
   "language": "python",
   "name": "python3"
  },
  "language_info": {
   "codemirror_mode": {
    "name": "ipython",
    "version": 3
   },
   "file_extension": ".py",
   "mimetype": "text/x-python",
   "name": "python",
   "nbconvert_exporter": "python",
   "pygments_lexer": "ipython3",
   "version": "3.12.4"
  }
 },
 "nbformat": 4,
 "nbformat_minor": 5
}
