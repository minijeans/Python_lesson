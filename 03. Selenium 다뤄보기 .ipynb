{
 "cells": [
  {
   "cell_type": "markdown",
   "id": "fc828958-75ec-499f-acab-c07d5d458ef3",
   "metadata": {},
   "source": [
    "## Selenium Library\n",
    "- 브라우저의 동작을 제어할 수 있는 자동화 도구\n",
    "> ex. 마우스 클릭, 키보드 입력값 전달, 창 전환 등\n",
    "\n",
    "- 동적인 컨텐츠(페이지를 옮겨다니거나, action이 필요할 때 등)를 수집할 때 주로 활용\n",
    "- requests 보다는 속도가 느림"
   ]
  },
  {
   "cell_type": "code",
   "execution_count": 1,
   "id": "f101b278-0690-41bd-87b5-629ffc586223",
   "metadata": {},
   "outputs": [
    {
     "name": "stdout",
     "output_type": "stream",
     "text": [
      "Collecting selenium\n",
      "  Downloading selenium-4.26.1-py3-none-any.whl.metadata (7.1 kB)\n",
      "Requirement already satisfied: urllib3<3,>=1.26 in c:\\users\\smhrd1\\anaconda3\\lib\\site-packages (from urllib3[socks]<3,>=1.26->selenium) (2.2.2)\n",
      "Collecting trio~=0.17 (from selenium)\n",
      "  Downloading trio-0.27.0-py3-none-any.whl.metadata (8.6 kB)\n",
      "Collecting trio-websocket~=0.9 (from selenium)\n",
      "  Downloading trio_websocket-0.11.1-py3-none-any.whl.metadata (4.7 kB)\n",
      "Requirement already satisfied: certifi>=2021.10.8 in c:\\users\\smhrd1\\anaconda3\\lib\\site-packages (from selenium) (2024.8.30)\n",
      "Requirement already satisfied: typing_extensions~=4.9 in c:\\users\\smhrd1\\anaconda3\\lib\\site-packages (from selenium) (4.11.0)\n",
      "Requirement already satisfied: websocket-client~=1.8 in c:\\users\\smhrd1\\anaconda3\\lib\\site-packages (from selenium) (1.8.0)\n",
      "Collecting attrs>=23.2.0 (from trio~=0.17->selenium)\n",
      "  Downloading attrs-24.2.0-py3-none-any.whl.metadata (11 kB)\n",
      "Requirement already satisfied: sortedcontainers in c:\\users\\smhrd1\\anaconda3\\lib\\site-packages (from trio~=0.17->selenium) (2.4.0)\n",
      "Requirement already satisfied: idna in c:\\users\\smhrd1\\anaconda3\\lib\\site-packages (from trio~=0.17->selenium) (3.7)\n",
      "Collecting outcome (from trio~=0.17->selenium)\n",
      "  Downloading outcome-1.3.0.post0-py2.py3-none-any.whl.metadata (2.6 kB)\n",
      "Requirement already satisfied: sniffio>=1.3.0 in c:\\users\\smhrd1\\anaconda3\\lib\\site-packages (from trio~=0.17->selenium) (1.3.0)\n",
      "Requirement already satisfied: cffi>=1.14 in c:\\users\\smhrd1\\anaconda3\\lib\\site-packages (from trio~=0.17->selenium) (1.16.0)\n",
      "Collecting wsproto>=0.14 (from trio-websocket~=0.9->selenium)\n",
      "  Downloading wsproto-1.2.0-py3-none-any.whl.metadata (5.6 kB)\n",
      "Requirement already satisfied: pysocks!=1.5.7,<2.0,>=1.5.6 in c:\\users\\smhrd1\\anaconda3\\lib\\site-packages (from urllib3[socks]<3,>=1.26->selenium) (1.7.1)\n",
      "Requirement already satisfied: pycparser in c:\\users\\smhrd1\\anaconda3\\lib\\site-packages (from cffi>=1.14->trio~=0.17->selenium) (2.21)\n",
      "Requirement already satisfied: h11<1,>=0.9.0 in c:\\users\\smhrd1\\anaconda3\\lib\\site-packages (from wsproto>=0.14->trio-websocket~=0.9->selenium) (0.14.0)\n",
      "Downloading selenium-4.26.1-py3-none-any.whl (9.7 MB)\n",
      "   ---------------------------------------- 0.0/9.7 MB ? eta -:--:--\n",
      "   ---------------------------------------- 0.0/9.7 MB ? eta -:--:--\n",
      "   ---------------------------------------- 0.1/9.7 MB 1.7 MB/s eta 0:00:06\n",
      "   ---------------------------------------- 0.1/9.7 MB 1.1 MB/s eta 0:00:09\n",
      "    --------------------------------------- 0.2/9.7 MB 1.4 MB/s eta 0:00:07\n",
      "   - -------------------------------------- 0.3/9.7 MB 1.7 MB/s eta 0:00:06\n",
      "   -- ------------------------------------- 0.5/9.7 MB 2.0 MB/s eta 0:00:05\n",
      "   --- ------------------------------------ 0.7/9.7 MB 2.4 MB/s eta 0:00:04\n",
      "   --- ------------------------------------ 0.8/9.7 MB 2.5 MB/s eta 0:00:04\n",
      "   ---- ----------------------------------- 1.0/9.7 MB 2.5 MB/s eta 0:00:04\n",
      "   ---- ----------------------------------- 1.0/9.7 MB 2.4 MB/s eta 0:00:04\n",
      "   ---- ----------------------------------- 1.0/9.7 MB 2.4 MB/s eta 0:00:04\n",
      "   ---- ----------------------------------- 1.2/9.7 MB 2.2 MB/s eta 0:00:04\n",
      "   ----- ---------------------------------- 1.4/9.7 MB 2.4 MB/s eta 0:00:04\n",
      "   ------ --------------------------------- 1.6/9.7 MB 2.6 MB/s eta 0:00:04\n",
      "   ------- -------------------------------- 1.7/9.7 MB 2.7 MB/s eta 0:00:04\n",
      "   ------- -------------------------------- 1.7/9.7 MB 2.7 MB/s eta 0:00:04\n",
      "   ------- -------------------------------- 1.9/9.7 MB 2.5 MB/s eta 0:00:04\n",
      "   -------- ------------------------------- 2.2/9.7 MB 2.6 MB/s eta 0:00:03\n",
      "   ----------- ---------------------------- 2.7/9.7 MB 3.1 MB/s eta 0:00:03\n",
      "   -------------- ------------------------- 3.6/9.7 MB 3.8 MB/s eta 0:00:02\n",
      "   --------------- ------------------------ 3.8/9.7 MB 4.0 MB/s eta 0:00:02\n",
      "   ----------------- ---------------------- 4.2/9.7 MB 4.2 MB/s eta 0:00:02\n",
      "   ------------------- -------------------- 4.8/9.7 MB 4.5 MB/s eta 0:00:02\n",
      "   --------------------- ------------------ 5.2/9.7 MB 4.7 MB/s eta 0:00:01\n",
      "   --------------------- ------------------ 5.2/9.7 MB 4.5 MB/s eta 0:00:01\n",
      "   --------------------- ------------------ 5.2/9.7 MB 4.5 MB/s eta 0:00:01\n",
      "   ---------------------- ----------------- 5.5/9.7 MB 4.4 MB/s eta 0:00:01\n",
      "   ----------------------- ---------------- 5.6/9.7 MB 4.4 MB/s eta 0:00:01\n",
      "   ------------------------ --------------- 6.0/9.7 MB 4.4 MB/s eta 0:00:01\n",
      "   -------------------------- ------------- 6.3/9.7 MB 4.5 MB/s eta 0:00:01\n",
      "   --------------------------- ------------ 6.7/9.7 MB 4.7 MB/s eta 0:00:01\n",
      "   ---------------------------- ----------- 6.9/9.7 MB 4.6 MB/s eta 0:00:01\n",
      "   ----------------------------- ---------- 7.1/9.7 MB 4.6 MB/s eta 0:00:01\n",
      "   ------------------------------ --------- 7.3/9.7 MB 4.6 MB/s eta 0:00:01\n",
      "   ------------------------------ --------- 7.5/9.7 MB 4.6 MB/s eta 0:00:01\n",
      "   ------------------------------- -------- 7.7/9.7 MB 4.6 MB/s eta 0:00:01\n",
      "   --------------------------------- ------ 8.1/9.7 MB 4.7 MB/s eta 0:00:01\n",
      "   --------------------------------- ------ 8.1/9.7 MB 4.7 MB/s eta 0:00:01\n",
      "   --------------------------------- ------ 8.1/9.7 MB 4.7 MB/s eta 0:00:01\n",
      "   ---------------------------------- ----- 8.4/9.7 MB 4.6 MB/s eta 0:00:01\n",
      "   ----------------------------------- ---- 8.6/9.7 MB 4.6 MB/s eta 0:00:01\n",
      "   ----------------------------------- ---- 8.6/9.7 MB 4.6 MB/s eta 0:00:01\n",
      "   ----------------------------------- ---- 8.6/9.7 MB 4.6 MB/s eta 0:00:01\n",
      "   ----------------------------------- ---- 8.6/9.7 MB 4.6 MB/s eta 0:00:01\n",
      "   ----------------------------------- ---- 8.6/9.7 MB 4.6 MB/s eta 0:00:01\n",
      "   ------------------------------------ --- 8.7/9.7 MB 4.1 MB/s eta 0:00:01\n",
      "   ------------------------------------ --- 8.8/9.7 MB 4.1 MB/s eta 0:00:01\n",
      "   ------------------------------------ --- 8.8/9.7 MB 4.0 MB/s eta 0:00:01\n",
      "   ------------------------------------ --- 8.9/9.7 MB 4.0 MB/s eta 0:00:01\n",
      "   ------------------------------------ --- 8.9/9.7 MB 3.9 MB/s eta 0:00:01\n",
      "   ------------------------------------- -- 9.0/9.7 MB 3.8 MB/s eta 0:00:01\n",
      "   ------------------------------------- -- 9.1/9.7 MB 3.8 MB/s eta 0:00:01\n",
      "   ------------------------------------- -- 9.1/9.7 MB 3.8 MB/s eta 0:00:01\n",
      "   ------------------------------------- -- 9.1/9.7 MB 3.7 MB/s eta 0:00:01\n",
      "   -------------------------------------- - 9.3/9.7 MB 3.7 MB/s eta 0:00:01\n",
      "   -------------------------------------- - 9.4/9.7 MB 3.7 MB/s eta 0:00:01\n",
      "   ---------------------------------------  9.5/9.7 MB 3.6 MB/s eta 0:00:01\n",
      "   ---------------------------------------  9.6/9.7 MB 3.6 MB/s eta 0:00:01\n",
      "   ---------------------------------------  9.7/9.7 MB 3.6 MB/s eta 0:00:01\n",
      "   ---------------------------------------- 9.7/9.7 MB 3.5 MB/s eta 0:00:00\n",
      "Downloading trio-0.27.0-py3-none-any.whl (481 kB)\n",
      "   ---------------------------------------- 0.0/481.7 kB ? eta -:--:--\n",
      "   ------- -------------------------------- 92.2/481.7 kB 1.7 MB/s eta 0:00:01\n",
      "   --------- ------------------------------ 112.6/481.7 kB 2.2 MB/s eta 0:00:01\n",
      "   --------- ------------------------------ 112.6/481.7 kB 2.2 MB/s eta 0:00:01\n",
      "   -------------- ------------------------- 174.1/481.7 kB 1.1 MB/s eta 0:00:01\n",
      "   ---------------- --------------------- 204.8/481.7 kB 831.5 kB/s eta 0:00:01\n",
      "   ---------------- --------------------- 204.8/481.7 kB 831.5 kB/s eta 0:00:01\n",
      "   ----------------------- -------------- 297.0/481.7 kB 965.4 kB/s eta 0:00:01\n",
      "   ----------------------- -------------- 297.0/481.7 kB 965.4 kB/s eta 0:00:01\n",
      "   ------------------------- ------------ 317.4/481.7 kB 787.7 kB/s eta 0:00:01\n",
      "   --------------------------- ---------- 348.2/481.7 kB 722.1 kB/s eta 0:00:01\n",
      "   -------------------------------- ----- 409.6/481.7 kB 853.3 kB/s eta 0:00:01\n",
      "   -------------------------------------  481.3/481.7 kB 861.1 kB/s eta 0:00:01\n",
      "   -------------------------------------- 481.7/481.7 kB 839.0 kB/s eta 0:00:00\n",
      "Downloading trio_websocket-0.11.1-py3-none-any.whl (17 kB)\n",
      "Downloading attrs-24.2.0-py3-none-any.whl (63 kB)\n",
      "   ---------------------------------------- 0.0/63.0 kB ? eta -:--:--\n",
      "   ---------------------------------------- 0.0/63.0 kB ? eta -:--:--\n",
      "   ------ --------------------------------- 10.2/63.0 kB ? eta -:--:--\n",
      "   ---------------------------------------- 63.0/63.0 kB 1.1 MB/s eta 0:00:00\n",
      "Downloading wsproto-1.2.0-py3-none-any.whl (24 kB)\n",
      "Downloading outcome-1.3.0.post0-py2.py3-none-any.whl (10 kB)\n",
      "Installing collected packages: wsproto, attrs, outcome, trio, trio-websocket, selenium\n",
      "  Attempting uninstall: attrs\n",
      "    Found existing installation: attrs 23.1.0\n",
      "    Uninstalling attrs-23.1.0:\n",
      "      Successfully uninstalled attrs-23.1.0\n",
      "Successfully installed attrs-24.2.0 outcome-1.3.0.post0 selenium-4.26.1 trio-0.27.0 trio-websocket-0.11.1 wsproto-1.2.0\n"
     ]
    }
   ],
   "source": [
    "# 설치\n",
    "# !pip install selenium"
   ]
  },
  {
   "cell_type": "code",
   "execution_count": 13,
   "id": "20e75e36-fe08-443f-ab59-2588104d0fdc",
   "metadata": {},
   "outputs": [],
   "source": [
    "# 필요한 도구를 불러오기\n",
    "from selenium import webdriver as wb # 컴퓨터 전용 브라우저를 실행 및 관리하는 도구\n",
    "from selenium.webdriver.common.by import By #요소 지정 방식을 제공하는 도구\n",
    "from selenium.webdriver.common.keys import Keys # 키보드 입력을 제공하는 도구"
   ]
  },
  {
   "cell_type": "code",
   "execution_count": 47,
   "id": "ee979d8c-6084-4a02-b93b-3a372153d66e",
   "metadata": {},
   "outputs": [],
   "source": [
    "# 컴퓨터 전용 브라우저(테스트 브라우저)\n",
    "driver = wb.Chrome()"
   ]
  },
  {
   "cell_type": "code",
   "execution_count": 49,
   "id": "b19a8212-30c8-4f91-8e78-3f8f62f2350b",
   "metadata": {},
   "outputs": [],
   "source": [
    "# url로 요청하기\n",
    "driver.get(\"https://www.naver.com\")"
   ]
  },
  {
   "cell_type": "code",
   "execution_count": 25,
   "id": "60eaa455-a481-49a9-80db-cc59ca489cfc",
   "metadata": {},
   "outputs": [],
   "source": [
    "# 사람이 실제로 작업하는 모든 것들을 명령할 수 있음"
   ]
  },
  {
   "cell_type": "code",
   "execution_count": 51,
   "id": "5e014e1b-34d3-42cb-a802-f85542d962c8",
   "metadata": {},
   "outputs": [],
   "source": [
    "# 검색란 찾기 -> 검색을 받는 요소를 지정\n",
    "search = driver.find_element(By.ID, \"query\")\n",
    "\n",
    "# soup.select() 비슷 -> find_elements(경로 지정 방식, \"경로\")\n",
    "# soup.select_one() 비슷 -> find_element(경로 지정 방식, \"경로\")"
   ]
  },
  {
   "cell_type": "code",
   "execution_count": 53,
   "id": "ef420a59-f98a-41b3-b8e0-6fe26cb2d3fd",
   "metadata": {},
   "outputs": [],
   "source": [
    "# 키보드 값을 보내는 함수\n",
    "search.send_keys(\"흑백요리사\")"
   ]
  },
  {
   "cell_type": "code",
   "execution_count": 35,
   "id": "e4475b29-faba-49cd-8ef8-6295c3b59a81",
   "metadata": {},
   "outputs": [],
   "source": [
    "search.send_keys(Keys.ENTER)"
   ]
  },
  {
   "cell_type": "code",
   "execution_count": 37,
   "id": "b8e4b211-bbe6-4ba5-8788-c6adc21077fe",
   "metadata": {},
   "outputs": [],
   "source": [
    "# 뒤로가기\n",
    "driver.back()"
   ]
  },
  {
   "cell_type": "code",
   "execution_count": 39,
   "id": "0985fe17-2739-47ac-a3b3-0004dfd6911f",
   "metadata": {},
   "outputs": [],
   "source": [
    "search = driver.find_element(By.ID, \"query\")\n",
    "search.send_keys(\"흑백요리사\")"
   ]
  },
  {
   "cell_type": "code",
   "execution_count": 57,
   "id": "fa32b13f-e925-4512-9d51-14d85159636d",
   "metadata": {},
   "outputs": [],
   "source": [
    "# 버튼 클릭도 가능!\n",
    "btn = driver.find_element(By.ID, \"search-btn\")"
   ]
  },
  {
   "cell_type": "code",
   "execution_count": 59,
   "id": "c40bc9ed-c691-47b9-9b5e-94e9f5b8cd5e",
   "metadata": {},
   "outputs": [],
   "source": [
    "btn.click()"
   ]
  },
  {
   "cell_type": "code",
   "execution_count": 61,
   "id": "d8e5d767-d15e-468f-98ac-6a722fe60063",
   "metadata": {},
   "outputs": [],
   "source": [
    "driver.quit()"
   ]
  }
 ],
 "metadata": {
  "kernelspec": {
   "display_name": "Python 3 (ipykernel)",
   "language": "python",
   "name": "python3"
  },
  "language_info": {
   "codemirror_mode": {
    "name": "ipython",
    "version": 3
   },
   "file_extension": ".py",
   "mimetype": "text/x-python",
   "name": "python",
   "nbconvert_exporter": "python",
   "pygments_lexer": "ipython3",
   "version": "3.12.4"
  }
 },
 "nbformat": 4,
 "nbformat_minor": 5
}
